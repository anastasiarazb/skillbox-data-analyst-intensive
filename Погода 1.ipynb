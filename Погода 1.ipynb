{
 "cells": [
  {
   "cell_type": "code",
   "execution_count": null,
   "metadata": {},
   "outputs": [],
   "source": [
    "# https://rp5.ru/%D0%90%D1%80%D1%85%D0%B8%D0%B2_%D0%BF%D0%BE%D0%B3%D0%BE%D0%B4%D1%8B_%D0%B2_%D0%A8%D0%B5%D1%80%D0%B5%D0%BC%D0%B5%D1%82%D1%8C%D0%B5%D0%B2%D0%BE,_%D0%B8%D0%BC._%D0%90._%D0%A1._%D0%9F%D1%83%D1%88%D0%BA%D0%B8%D0%BD%D0%B0_(%D0%B0%D1%8D%D1%80%D0%BE%D0%BF%D0%BE%D1%80%D1%82)"
   ]
  },
  {
   "cell_type": "code",
   "execution_count": 1,
   "metadata": {},
   "outputs": [],
   "source": [
    "import numpy as np\n",
    "import pandas as pd\n",
    "import os\n",
    "import matplotlib.pyplot as plt\n",
    "%matplotlib inline"
   ]
  },
  {
   "cell_type": "code",
   "execution_count": 32,
   "metadata": {},
   "outputs": [
    {
     "data": {
      "text/plain": [
       "['.ipynb_checkpoints',\n",
       " 'Untitled.ipynb',\n",
       " 'Вэллингтон.xls',\n",
       " 'Вэллингтон.xls.gz',\n",
       " 'Мск_5лет.xls',\n",
       " 'Мск_5лет.xls.gz',\n",
       " 'НиНо_5лет.gz',\n",
       " 'НиНо_5лет.xls',\n",
       " 'Новосиб.xls',\n",
       " 'Новосиб.xls.gz',\n",
       " 'Погода 1.ipynb',\n",
       " 'СПб_5лет.gz',\n",
       " 'СПб_5лет.xls']"
      ]
     },
     "execution_count": 32,
     "metadata": {},
     "output_type": "execute_result"
    }
   ],
   "source": [
    "os.listdir()"
   ]
  },
  {
   "cell_type": "code",
   "execution_count": 8,
   "metadata": {},
   "outputs": [
    {
     "data": {
      "text/plain": [
       "0        01.01.2020 21:00\n",
       "1        01.01.2020 18:00\n",
       "2        01.01.2020 15:00\n",
       "3        01.01.2020 12:00\n",
       "4        01.01.2020 09:00\n",
       "               ...       \n",
       "17642    01.01.2015 04:00\n",
       "17643    01.01.2015 03:00\n",
       "17644    01.01.2015 02:00\n",
       "17645    01.01.2015 01:00\n",
       "17646    01.01.2015 00:00\n",
       "Name: Местное время в Москве (ВДНХ), Length: 17647, dtype: object"
      ]
     },
     "execution_count": 8,
     "metadata": {},
     "output_type": "execute_result"
    }
   ],
   "source": [
    "data_msk['Местное время в Москве (ВДНХ)']"
   ]
  },
  {
   "cell_type": "code",
   "execution_count": 63,
   "metadata": {
    "scrolled": true
   },
   "outputs": [],
   "source": [
    "data_msk = pd.read_excel('Мск_5лет.xls', skiprows=6)\n",
    "data_msk = data_msk.rename(columns={'Местное время в Москве (ВДНХ)': 'Time'})\n",
    "data_msk.index = pd.to_datetime(data_msk['Time'], format='%d.%m.%Y %H:%M')\n",
    "\n",
    "data_spb = pd.read_excel('СПб_5лет.xls', skiprows=6)\n",
    "data_spb = data_spb.rename(columns={'Местное время в Санкт-Петербурге': 'Time'})\n",
    "data_spb.index = pd.to_datetime(data_spb['Time'], format='%d.%m.%Y %H:%M')\n",
    "\n",
    "data_vell = pd.read_excel('Вэллингтон.xls', skiprows=6)\n",
    "data_vell = data_vell.rename(columns={'Местное время в Веллингтоне (аэропорт)': 'Time'})\n",
    "data_vell.index = pd.to_datetime(data_vell['Time'], format='%d.%m.%Y %H:%M')"
   ]
  },
  {
   "cell_type": "code",
   "execution_count": 73,
   "metadata": {},
   "outputs": [
    {
     "data": {
      "text/plain": [
       "23.3"
      ]
     },
     "execution_count": 73,
     "metadata": {},
     "output_type": "execute_result"
    }
   ],
   "source": [
    "data"
   ]
  },
  {
   "cell_type": "code",
   "execution_count": null,
   "metadata": {},
   "outputs": [],
   "source": [
    "'это строка' \"Это тоже\""
   ]
  },
  {
   "cell_type": "code",
   "execution_count": 75,
   "metadata": {},
   "outputs": [
    {
     "name": "stdout",
     "output_type": "stream",
     "text": [
      "bes\t\n"
     ]
    }
   ],
   "source": [
    "print('bes\\t')"
   ]
  },
  {
   "cell_type": "code",
   "execution_count": 66,
   "metadata": {},
   "outputs": [],
   "source": [
    "all_data = pd.DataFrame()\n",
    "all_data['Moscow'] = data_msk['T']\n",
    "all_data['S. Petersburg'] = data_spb['T']\n",
    "all_data['Vellington'] = data_vell['T']"
   ]
  },
  {
   "cell_type": "code",
   "execution_count": 68,
   "metadata": {},
   "outputs": [
    {
     "data": {
      "text/html": [
       "<div>\n",
       "<style scoped>\n",
       "    .dataframe tbody tr th:only-of-type {\n",
       "        vertical-align: middle;\n",
       "    }\n",
       "\n",
       "    .dataframe tbody tr th {\n",
       "        vertical-align: top;\n",
       "    }\n",
       "\n",
       "    .dataframe thead th {\n",
       "        text-align: right;\n",
       "    }\n",
       "</style>\n",
       "<table border=\"1\" class=\"dataframe\">\n",
       "  <thead>\n",
       "    <tr style=\"text-align: right;\">\n",
       "      <th></th>\n",
       "      <th>Moscow</th>\n",
       "      <th>S. Petersburg</th>\n",
       "      <th>Vellington</th>\n",
       "    </tr>\n",
       "  </thead>\n",
       "  <tbody>\n",
       "    <tr>\n",
       "      <td>Moscow</td>\n",
       "      <td>1.000000</td>\n",
       "      <td>0.916477</td>\n",
       "      <td>-0.559160</td>\n",
       "    </tr>\n",
       "    <tr>\n",
       "      <td>S. Petersburg</td>\n",
       "      <td>0.916477</td>\n",
       "      <td>1.000000</td>\n",
       "      <td>-0.583254</td>\n",
       "    </tr>\n",
       "    <tr>\n",
       "      <td>Vellington</td>\n",
       "      <td>-0.559160</td>\n",
       "      <td>-0.583254</td>\n",
       "      <td>1.000000</td>\n",
       "    </tr>\n",
       "  </tbody>\n",
       "</table>\n",
       "</div>"
      ],
      "text/plain": [
       "                 Moscow  S. Petersburg  Vellington\n",
       "Moscow         1.000000       0.916477   -0.559160\n",
       "S. Petersburg  0.916477       1.000000   -0.583254\n",
       "Vellington    -0.559160      -0.583254    1.000000"
      ]
     },
     "execution_count": 68,
     "metadata": {},
     "output_type": "execute_result"
    }
   ],
   "source": [
    "all_data.corr()"
   ]
  },
  {
   "cell_type": "code",
   "execution_count": 72,
   "metadata": {},
   "outputs": [
    {
     "data": {
      "text/plain": [
       "<matplotlib.axes._subplots.AxesSubplot at 0x287009948c8>"
      ]
     },
     "execution_count": 72,
     "metadata": {},
     "output_type": "execute_result"
    },
    {
     "data": {
      "text/plain": [
       "<Figure size 1080x720 with 0 Axes>"
      ]
     },
     "metadata": {},
     "output_type": "display_data"
    },
    {
     "data": {
      "image/png": "[encoded data removed]",
      "text/plain": [
       "<Figure size 432x288 with 1 Axes>"
      ]
     },
     "metadata": {
      "needs_background": "light"
     },
     "output_type": "display_data"
    }
   ],
   "source": [
    "plt.figure(figsize=(15, 10))\n",
    "all_data.plot()"
   ]
  },
  {
   "cell_type": "code",
   "execution_count": 49,
   "metadata": {},
   "outputs": [
    {
     "data": {
      "text/plain": [
       "(17647, 14607, 14489)"
      ]
     },
     "execution_count": 49,
     "metadata": {},
     "output_type": "execute_result"
    }
   ],
   "source": [
    "len(data_msk), len(data_spb), len(data_vell)"
   ]
  },
  {
   "cell_type": "code",
   "execution_count": 50,
   "metadata": {},
   "outputs": [],
   "source": [
    "data_msk = data_msk[data_msk.index.hour == 12]\n",
    "data_novosib = data_novosib[data_novosib.index.hour == 13]\n",
    "data_spb = data_spb[data_spb.index.hour == 12]\n",
    "data_vell = data_vell[data_vell.index.hour==12]"
   ]
  },
  {
   "cell_type": "code",
   "execution_count": 51,
   "metadata": {},
   "outputs": [
    {
     "data": {
      "text/plain": [
       "(1808, 1826, 1826)"
      ]
     },
     "execution_count": 51,
     "metadata": {},
     "output_type": "execute_result"
    }
   ],
   "source": [
    "len(data_vell), len(data_msk), len(data_spb)"
   ]
  },
  {
   "cell_type": "code",
   "execution_count": 53,
   "metadata": {},
   "outputs": [
    {
     "data": {
      "text/plain": [
       "{Timestamp('2015-05-20 12:00:00'),\n",
       " Timestamp('2015-05-21 12:00:00'),\n",
       " Timestamp('2015-05-22 12:00:00'),\n",
       " Timestamp('2015-05-23 12:00:00'),\n",
       " Timestamp('2015-05-24 12:00:00'),\n",
       " Timestamp('2015-05-25 12:00:00'),\n",
       " Timestamp('2015-05-26 12:00:00'),\n",
       " Timestamp('2015-05-27 12:00:00'),\n",
       " Timestamp('2015-07-23 12:00:00'),\n",
       " Timestamp('2017-08-04 12:00:00'),\n",
       " Timestamp('2017-10-11 12:00:00'),\n",
       " Timestamp('2017-10-12 12:00:00'),\n",
       " Timestamp('2018-04-22 12:00:00'),\n",
       " Timestamp('2018-07-13 12:00:00'),\n",
       " Timestamp('2019-02-16 12:00:00'),\n",
       " Timestamp('2019-02-17 12:00:00'),\n",
       " Timestamp('2019-02-18 12:00:00'),\n",
       " Timestamp('2019-07-01 12:00:00'),\n",
       " Timestamp('2019-07-25 12:00:00')}"
      ]
     },
     "execution_count": 53,
     "metadata": {},
     "output_type": "execute_result"
    }
   ],
   "source": [
    "set(data_msk.index) - set(data_vell.index)"
   ]
  },
  {
   "cell_type": "code",
   "execution_count": 47,
   "metadata": {},
   "outputs": [
    {
     "data": {
      "text/plain": [
       "Int64Index([12, 12, 12, 12, 12, 12, 12, 12, 12, 12,\n",
       "            ...\n",
       "            12, 12, 12, 12, 12, 12, 12, 12, 12, 12],\n",
       "           dtype='int64', name='Местное время в Санкт-Петербурге', length=1826)"
      ]
     },
     "execution_count": 47,
     "metadata": {},
     "output_type": "execute_result"
    }
   ],
   "source": [
    "data_spb.index.hour"
   ]
  },
  {
   "cell_type": "code",
   "execution_count": null,
   "metadata": {},
   "outputs": [],
   "source": []
  },
  {
   "cell_type": "code",
   "execution_count": null,
   "metadata": {},
   "outputs": [],
   "source": []
  },
  {
   "cell_type": "code",
   "execution_count": null,
   "metadata": {},
   "outputs": [],
   "source": []
  },
  {
   "cell_type": "code",
   "execution_count": null,
   "metadata": {},
   "outputs": [],
   "source": []
  },
  {
   "cell_type": "code",
   "execution_count": null,
   "metadata": {
    "scrolled": true
   },
   "outputs": [],
   "source": [
    "data = pd.read_excel('ar2.xls', skiprows=6)\n",
    "data = data.set_index('Местное время в Москве (центр, Балчуг)')\n",
    "plt.figure(figsize=(10, 8))\n",
    "data['sss'].fillna(0).unique()"
   ]
  },
  {
   "cell_type": "code",
   "execution_count": null,
   "metadata": {},
   "outputs": [],
   "source": [
    "data.loc[data['sss'] == 'Менее 0.5', 'sss'] = 0\n",
    "data.loc[data['sss'] == 'Снежный покров не постоянный.', 'sss'] = 0"
   ]
  },
  {
   "cell_type": "code",
   "execution_count": null,
   "metadata": {},
   "outputs": [],
   "source": [
    "data['sss'].fillna(0).unique()"
   ]
  },
  {
   "cell_type": "code",
   "execution_count": null,
   "metadata": {},
   "outputs": [],
   "source": [
    "data[~data['sss'].isna()]"
   ]
  },
  {
   "cell_type": "code",
   "execution_count": null,
   "metadata": {},
   "outputs": [],
   "source": [
    "data['sss'].plot()\n",
    "plt.xticks(rotation=45) "
   ]
  },
  {
   "cell_type": "code",
   "execution_count": null,
   "metadata": {},
   "outputs": [],
   "source": [
    "data[data['T'].isna()]"
   ]
  },
  {
   "cell_type": "code",
   "execution_count": null,
   "metadata": {},
   "outputs": [],
   "source": []
  },
  {
   "cell_type": "code",
   "execution_count": null,
   "metadata": {},
   "outputs": [],
   "source": [
    "data['T'].mean(), data['T'].max(), data['T'].min()"
   ]
  },
  {
   "cell_type": "code",
   "execution_count": null,
   "metadata": {},
   "outputs": [],
   "source": [
    "plt.plot(data.index[::100], data['VV'][::100])"
   ]
  },
  {
   "cell_type": "code",
   "execution_count": null,
   "metadata": {},
   "outputs": [],
   "source": [
    "data[['T', 'VV']].corr()"
   ]
  },
  {
   "cell_type": "code",
   "execution_count": null,
   "metadata": {},
   "outputs": [],
   "source": [
    "data.columns"
   ]
  },
  {
   "cell_type": "code",
   "execution_count": null,
   "metadata": {},
   "outputs": [],
   "source": [
    "data.describe"
   ]
  },
  {
   "cell_type": "code",
   "execution_count": 77,
   "metadata": {},
   "outputs": [
    {
     "ename": "AttributeError",
     "evalue": "'builtin_function_or_method' object has no attribute 'now'",
     "output_type": "error",
     "traceback": [
      "\u001b[1;31m---------------------------------------------------------------------------\u001b[0m",
      "\u001b[1;31mAttributeError\u001b[0m                            Traceback (most recent call last)",
      "\u001b[1;32m<ipython-input-77-9bf2f19ff969>\u001b[0m in \u001b[0;36m<module>\u001b[1;34m\u001b[0m\n\u001b[0;32m      1\u001b[0m \u001b[1;32mimport\u001b[0m \u001b[0mtime\u001b[0m\u001b[1;33m\u001b[0m\u001b[1;33m\u001b[0m\u001b[0m\n\u001b[1;32m----> 2\u001b[1;33m \u001b[0mtime\u001b[0m\u001b[1;33m.\u001b[0m\u001b[0mtime\u001b[0m\u001b[1;33m.\u001b[0m\u001b[0mnow\u001b[0m\u001b[1;33m(\u001b[0m\u001b[1;33m)\u001b[0m\u001b[1;33m\u001b[0m\u001b[1;33m\u001b[0m\u001b[0m\n\u001b[0m",
      "\u001b[1;31mAttributeError\u001b[0m: 'builtin_function_or_method' object has no attribute 'now'"
     ]
    }
   ],
   "source": [
    "import time\n",
    "time.time.now()"
   ]
  },
  {
   "cell_type": "code",
   "execution_count": null,
   "metadata": {},
   "outputs": [],
   "source": []
  }
 ],
 "metadata": {
  "kernelspec": {
   "display_name": "Python 3",
   "language": "python",
   "name": "python3"
  },
  "language_info": {
   "codemirror_mode": {
    "name": "ipython",
    "version": 3
   },
   "file_extension": ".py",
   "mimetype": "text/x-python",
   "name": "python",
   "nbconvert_exporter": "python",
   "pygments_lexer": "ipython3",
   "version": "3.7.4"
  }
 },
 "nbformat": 4,
 "nbformat_minor": 2
}
