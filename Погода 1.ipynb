{
 "cells": [
  {
   "cell_type": "code",
   "execution_count": 7,
   "metadata": {},
   "outputs": [],
   "source": [
    "# https://rp5.ru/%D0%90%D1%80%D1%85%D0%B8%D0%B2_%D0%BF%D0%BE%D0%B3%D0%BE%D0%B4%D1%8B_%D0%B2_%D0%A8%D0%B5%D1%80%D0%B5%D0%BC%D0%B5%D1%82%D1%8C%D0%B5%D0%B2%D0%BE,_%D0%B8%D0%BC._%D0%90._%D0%A1._%D0%9F%D1%83%D1%88%D0%BA%D0%B8%D0%BD%D0%B0_(%D0%B0%D1%8D%D1%80%D0%BE%D0%BF%D0%BE%D1%80%D1%82)"
   ]
  },
  {
   "cell_type": "code",
   "execution_count": 102,
   "metadata": {},
   "outputs": [
    {
     "ename": "ModuleNotFoundError",
     "evalue": "No module named 'pyramid'",
     "output_type": "error",
     "traceback": [
      "\u001b[1;31m---------------------------------------------------------------------------\u001b[0m",
      "\u001b[1;31mModuleNotFoundError\u001b[0m                       Traceback (most recent call last)",
      "\u001b[1;32m<ipython-input-102-6fdad47a77dc>\u001b[0m in \u001b[0;36m<module>\u001b[1;34m\u001b[0m\n\u001b[0;32m      6\u001b[0m \u001b[1;32mfrom\u001b[0m \u001b[0mstatsmodels\u001b[0m\u001b[1;33m.\u001b[0m\u001b[0mtsa\u001b[0m\u001b[1;33m.\u001b[0m\u001b[0mseasonal\u001b[0m \u001b[1;32mimport\u001b[0m \u001b[0mseasonal_decompose\u001b[0m\u001b[1;33m\u001b[0m\u001b[1;33m\u001b[0m\u001b[0m\n\u001b[0;32m      7\u001b[0m \u001b[1;32mfrom\u001b[0m \u001b[0mstatsmodels\u001b[0m\u001b[1;33m.\u001b[0m\u001b[0mtsa\u001b[0m\u001b[1;33m.\u001b[0m\u001b[0marima_model\u001b[0m \u001b[1;32mimport\u001b[0m \u001b[0mARMA\u001b[0m\u001b[1;33m,\u001b[0m \u001b[0mARIMA\u001b[0m\u001b[1;33m\u001b[0m\u001b[1;33m\u001b[0m\u001b[0m\n\u001b[1;32m----> 8\u001b[1;33m \u001b[1;32mfrom\u001b[0m \u001b[0mpyramid\u001b[0m\u001b[1;33m.\u001b[0m\u001b[0marima\u001b[0m \u001b[1;32mimport\u001b[0m \u001b[0mauto_arima\u001b[0m\u001b[1;33m\u001b[0m\u001b[1;33m\u001b[0m\u001b[0m\n\u001b[0m\u001b[0;32m      9\u001b[0m \u001b[1;32mfrom\u001b[0m \u001b[0mpandas\u001b[0m\u001b[1;33m.\u001b[0m\u001b[0mplotting\u001b[0m \u001b[1;32mimport\u001b[0m \u001b[0mautocorrelation_plot\u001b[0m\u001b[1;33m\u001b[0m\u001b[1;33m\u001b[0m\u001b[0m\n",
      "\u001b[1;31mModuleNotFoundError\u001b[0m: No module named 'pyramid'"
     ]
    }
   ],
   "source": [
    "import numpy as np\n",
    "import pandas as pd\n",
    "import os\n",
    "import matplotlib.pyplot as plt\n",
    "%matplotlib inline\n",
    "from statsmodels.tsa.seasonal import seasonal_decompose\n",
    "from statsmodels.tsa.arima_model import ARMA, ARIMA\n",
    "from pyramid.arima import auto_arima\n",
    "from pandas.plotting import autocorrelation_plot"
   ]
  },
  {
   "cell_type": "code",
   "execution_count": 9,
   "metadata": {},
   "outputs": [
    {
     "data": {
      "text/plain": [
       "['.git',\n",
       " '.gitignore',\n",
       " '.ipynb_checkpoints',\n",
       " 'data',\n",
       " 'README.md',\n",
       " 'Интенсив_анализ_данных_Борнева.pptx',\n",
       " 'Погода 1.ipynb']"
      ]
     },
     "execution_count": 9,
     "metadata": {},
     "output_type": "execute_result"
    }
   ],
   "source": [
    "os.listdir()"
   ]
  },
  {
   "cell_type": "code",
   "execution_count": 10,
   "metadata": {
    "scrolled": true
   },
   "outputs": [],
   "source": [
    "data_msk = pd.read_excel('data/Мск_5лет.xls', skiprows=6)\n",
    "data_msk = data_msk.rename(columns={'Местное время в Москве (ВДНХ)': 'Time'})\n",
    "data_msk.index = pd.to_datetime(data_msk['Time'], format='%d.%m.%Y %H:%M')\n",
    "\n",
    "data_spb = pd.read_excel('data/СПб_5лет.xls', skiprows=6)\n",
    "data_spb = data_spb.rename(columns={'Местное время в Санкт-Петербурге': 'Time'})\n",
    "data_spb.index = pd.to_datetime(data_spb['Time'], format='%d.%m.%Y %H:%M')\n",
    "\n",
    "data_vell = pd.read_excel('data/Вэллингтон.xls', skiprows=6)\n",
    "data_vell = data_vell.rename(columns={'Местное время в Веллингтоне (аэропорт)': 'Time'})\n",
    "data_vell.index = pd.to_datetime(data_vell['Time'], format='%d.%m.%Y %H:%M')"
   ]
  },
  {
   "cell_type": "code",
   "execution_count": 133,
   "metadata": {},
   "outputs": [],
   "source": [
    "msk_day = data_msk[data_msk.index.hour == 12][::-1]"
   ]
  },
  {
   "cell_type": "code",
   "execution_count": 134,
   "metadata": {},
   "outputs": [
    {
     "data": {
      "text/plain": [
       "([<matplotlib.axis.XTick at 0x2399250eb48>,\n",
       "  <matplotlib.axis.XTick at 0x239925122c8>,\n",
       "  <matplotlib.axis.XTick at 0x23992512fc8>,\n",
       "  <matplotlib.axis.XTick at 0x23991ee6548>,\n",
       "  <matplotlib.axis.XTick at 0x23991ee6bc8>,\n",
       "  <matplotlib.axis.XTick at 0x23991eeb288>,\n",
       "  <matplotlib.axis.XTick at 0x23991eebb08>,\n",
       "  <matplotlib.axis.XTick at 0x23991ef03c8>,\n",
       "  <matplotlib.axis.XTick at 0x23991ef0c48>,\n",
       "  <matplotlib.axis.XTick at 0x23991ef4708>,\n",
       "  <matplotlib.axis.XTick at 0x23991ef8148>,\n",
       "  <matplotlib.axis.XTick at 0x23991ef8ac8>,\n",
       "  <matplotlib.axis.XTick at 0x23991efc548>,\n",
       "  <matplotlib.axis.XTick at 0x23991ef4f88>,\n",
       "  <matplotlib.axis.XTick at 0x23991efc588>,\n",
       "  <matplotlib.axis.XTick at 0x23991eff108>,\n",
       "  <matplotlib.axis.XTick at 0x23991effa48>,\n",
       "  <matplotlib.axis.XTick at 0x23991f043c8>,\n",
       "  <matplotlib.axis.XTick at 0x23991f070c8>,\n",
       "  <matplotlib.axis.XTick at 0x23991f07ac8>,\n",
       "  <matplotlib.axis.XTick at 0x23991f0b5c8>,\n",
       "  <matplotlib.axis.XTick at 0x23991f0f148>,\n",
       "  <matplotlib.axis.XTick at 0x23991f0f948>,\n",
       "  <matplotlib.axis.XTick at 0x23991f04e48>,\n",
       "  <matplotlib.axis.XTick at 0x23991f20248>,\n",
       "  <matplotlib.axis.XTick at 0x23991f208c8>,\n",
       "  <matplotlib.axis.XTick at 0x23991f1e248>,\n",
       "  <matplotlib.axis.XTick at 0x23991f1ee48>,\n",
       "  <matplotlib.axis.XTick at 0x23991f19948>,\n",
       "  <matplotlib.axis.XTick at 0x23991f15448>,\n",
       "  <matplotlib.axis.XTick at 0x23991f15dc8>,\n",
       "  <matplotlib.axis.XTick at 0x23991f10a08>,\n",
       "  <matplotlib.axis.XTick at 0x23991f10908>,\n",
       "  <matplotlib.axis.XTick at 0x23991efcbc8>,\n",
       "  <matplotlib.axis.XTick at 0x23991f28808>,\n",
       "  <matplotlib.axis.XTick at 0x23991f2a188>,\n",
       "  <matplotlib.axis.XTick at 0x23991f2aac8>,\n",
       "  <matplotlib.axis.XTick at 0x23991f2f708>,\n",
       "  <matplotlib.axis.XTick at 0x23991f33288>,\n",
       "  <matplotlib.axis.XTick at 0x23991f33cc8>,\n",
       "  <matplotlib.axis.XTick at 0x23991f367c8>,\n",
       "  <matplotlib.axis.XTick at 0x23991f3a2c8>,\n",
       "  <matplotlib.axis.XTick at 0x23991f33088>,\n",
       "  <matplotlib.axis.XTick at 0x23991f3a308>,\n",
       "  <matplotlib.axis.XTick at 0x23991f3f248>,\n",
       "  <matplotlib.axis.XTick at 0x23991f3f8c8>,\n",
       "  <matplotlib.axis.XTick at 0x23991f43448>,\n",
       "  <matplotlib.axis.XTick at 0x23991f43d88>,\n",
       "  <matplotlib.axis.XTick at 0x23991f469c8>,\n",
       "  <matplotlib.axis.XTick at 0x23991f4a4c8>,\n",
       "  <matplotlib.axis.XTick at 0x23991f4d088>,\n",
       "  <matplotlib.axis.XTick at 0x23991f434c8>,\n",
       "  <matplotlib.axis.XTick at 0x23991f33308>,\n",
       "  <matplotlib.axis.XTick at 0x23991f4da88>,\n",
       "  <matplotlib.axis.XTick at 0x23991f53448>,\n",
       "  <matplotlib.axis.XTick at 0x23991f53c08>,\n",
       "  <matplotlib.axis.XTick at 0x23991f56708>,\n",
       "  <matplotlib.axis.XTick at 0x23991f5a308>,\n",
       "  <matplotlib.axis.XTick at 0x23991f5adc8>,\n",
       "  <matplotlib.axis.XTick at 0x23991f5d8c8>,\n",
       "  <matplotlib.axis.XTick at 0x23991f623c8>,\n",
       "  <matplotlib.axis.XTick at 0x23991f62c48>,\n",
       "  <matplotlib.axis.XTick at 0x23991f536c8>,\n",
       "  <matplotlib.axis.XTick at 0x23991f651c8>,\n",
       "  <matplotlib.axis.XTick at 0x23991f65b08>,\n",
       "  <matplotlib.axis.XTick at 0x23991f67488>,\n",
       "  <matplotlib.axis.XTick at 0x23991f6b148>,\n",
       "  <matplotlib.axis.XTick at 0x23991f6bb88>,\n",
       "  <matplotlib.axis.XTick at 0x23991f70688>,\n",
       "  <matplotlib.axis.XTick at 0x23991f74208>,\n",
       "  <matplotlib.axis.XTick at 0x23991f74c48>,\n",
       "  <matplotlib.axis.XTick at 0x23991f70fc8>,\n",
       "  <matplotlib.axis.XTick at 0x23991f654c8>,\n",
       "  <matplotlib.axis.XTick at 0x23991f779c8>,\n",
       "  <matplotlib.axis.XTick at 0x23991f7a348>,\n",
       "  <matplotlib.axis.XTick at 0x23991f7ae88>,\n",
       "  <matplotlib.axis.XTick at 0x23991f7e948>,\n",
       "  <matplotlib.axis.XTick at 0x23991f82448>,\n",
       "  <matplotlib.axis.XTick at 0x23991f82dc8>,\n",
       "  <matplotlib.axis.XTick at 0x23991f85a08>,\n",
       "  <matplotlib.axis.XTick at 0x23991f82048>,\n",
       "  <matplotlib.axis.XTick at 0x23991f77a88>,\n",
       "  <matplotlib.axis.XTick at 0x23991f8a788>,\n",
       "  <matplotlib.axis.XTick at 0x23991f8e248>,\n",
       "  <matplotlib.axis.XTick at 0x23991f8eb88>,\n",
       "  <matplotlib.axis.XTick at 0x23991f927c8>,\n",
       "  <matplotlib.axis.XTick at 0x23991f952c8>,\n",
       "  <matplotlib.axis.XTick at 0x23991f95d88>,\n",
       "  <matplotlib.axis.XTick at 0x23991f99888>,\n",
       "  <matplotlib.axis.XTick at 0x23991f9d388>,\n",
       "  <matplotlib.axis.XTick at 0x23991f99f48>,\n",
       "  <matplotlib.axis.XTick at 0x23991f8e088>,\n",
       "  <matplotlib.axis.XTick at 0x23991fa1188>,\n",
       "  <matplotlib.axis.XTick at 0x23991fa1ac8>,\n",
       "  <matplotlib.axis.XTick at 0x23991fa3448>,\n",
       "  <matplotlib.axis.XTick at 0x23991fa8108>,\n",
       "  <matplotlib.axis.XTick at 0x23991fa8b48>,\n",
       "  <matplotlib.axis.XTick at 0x23991fac648>,\n",
       "  <matplotlib.axis.XTick at 0x23991fb01c8>,\n",
       "  <matplotlib.axis.XTick at 0x23991fb0c08>,\n",
       "  <matplotlib.axis.XTick at 0x23991fac548>,\n",
       "  <matplotlib.axis.XTick at 0x23991fa1c08>,\n",
       "  <matplotlib.axis.XTick at 0x23991fb38c8>,\n",
       "  <matplotlib.axis.XTick at 0x23991fb5248>,\n",
       "  <matplotlib.axis.XTick at 0x23991fb5d88>,\n",
       "  <matplotlib.axis.XTick at 0x23991fba848>,\n",
       "  <matplotlib.axis.XTick at 0x23991fbf348>,\n",
       "  <matplotlib.axis.XTick at 0x23991fbfe08>,\n",
       "  <matplotlib.axis.XTick at 0x23991fc4908>,\n",
       "  <matplotlib.axis.XTick at 0x23991fbf1c8>,\n",
       "  <matplotlib.axis.XTick at 0x23991fb3b48>,\n",
       "  <matplotlib.axis.XTick at 0x23991fc8688>,\n",
       "  <matplotlib.axis.XTick at 0x23991fcb148>,\n",
       "  <matplotlib.axis.XTick at 0x23991fcba88>,\n",
       "  <matplotlib.axis.XTick at 0x23991fcf6c8>,\n",
       "  <matplotlib.axis.XTick at 0x23991fd2248>,\n",
       "  <matplotlib.axis.XTick at 0x23991fd2c88>,\n",
       "  <matplotlib.axis.XTick at 0x23991fd6788>,\n",
       "  <matplotlib.axis.XTick at 0x23991fda048>,\n",
       "  <matplotlib.axis.XTick at 0x23991fd6e48>,\n",
       "  <matplotlib.axis.XTick at 0x23991fc8a48>,\n",
       "  <matplotlib.axis.XTick at 0x23991fde088>,\n",
       "  <matplotlib.axis.XTick at 0x23991fde9c8>,\n",
       "  <matplotlib.axis.XTick at 0x23991fe1348>,\n",
       "  <matplotlib.axis.XTick at 0x23991fe40c8>,\n",
       "  <matplotlib.axis.XTick at 0x23991fe4a48>,\n",
       "  <matplotlib.axis.XTick at 0x23991fe9548>,\n",
       "  <matplotlib.axis.XTick at 0x23991fec0c8>,\n",
       "  <matplotlib.axis.XTick at 0x23991fecb08>,\n",
       "  <matplotlib.axis.XTick at 0x23991fe9448>,\n",
       "  <matplotlib.axis.XTick at 0x23991fdeb08>,\n",
       "  <matplotlib.axis.XTick at 0x23991ff07c8>,\n",
       "  <matplotlib.axis.XTick at 0x23991ff2148>,\n",
       "  <matplotlib.axis.XTick at 0x23991ff2c88>,\n",
       "  <matplotlib.axis.XTick at 0x23991ff6748>,\n",
       "  <matplotlib.axis.XTick at 0x23991ffc2c8>,\n",
       "  <matplotlib.axis.XTick at 0x23991ffcd08>,\n",
       "  <matplotlib.axis.XTick at 0x23992000808>,\n",
       "  <matplotlib.axis.XTick at 0x23991ffc148>,\n",
       "  <matplotlib.axis.XTick at 0x23991ff0fc8>,\n",
       "  <matplotlib.axis.XTick at 0x23992003588>,\n",
       "  <matplotlib.axis.XTick at 0x239920072c8>,\n",
       "  <matplotlib.axis.XTick at 0x23992007988>,\n",
       "  <matplotlib.axis.XTick at 0x2399200a5c8>,\n",
       "  <matplotlib.axis.XTick at 0x2399200e148>,\n",
       "  <matplotlib.axis.XTick at 0x2399200eb88>,\n",
       "  <matplotlib.axis.XTick at 0x23992011688>,\n",
       "  <matplotlib.axis.XTick at 0x23992017208>,\n",
       "  <matplotlib.axis.XTick at 0x23992011cc8>,\n",
       "  <matplotlib.axis.XTick at 0x23991ff0888>,\n",
       "  <matplotlib.axis.XTick at 0x23992019248>,\n",
       "  <matplotlib.axis.XTick at 0x239920198c8>,\n",
       "  <matplotlib.axis.XTick at 0x2399201d248>,\n",
       "  <matplotlib.axis.XTick at 0x2399201de48>,\n",
       "  <matplotlib.axis.XTick at 0x23992020948>,\n",
       "  <matplotlib.axis.XTick at 0x23992025448>,\n",
       "  <matplotlib.axis.XTick at 0x23992025dc8>,\n",
       "  <matplotlib.axis.XTick at 0x23992028a08>,\n",
       "  <matplotlib.axis.XTick at 0x23992025548>,\n",
       "  <matplotlib.axis.XTick at 0x23992017a88>,\n",
       "  <matplotlib.axis.XTick at 0x2399202d6c8>,\n",
       "  <matplotlib.axis.XTick at 0x239920302c8>,\n",
       "  <matplotlib.axis.XTick at 0x23992030b88>,\n",
       "  <matplotlib.axis.XTick at 0x23992035648>,\n",
       "  <matplotlib.axis.XTick at 0x239920381c8>,\n",
       "  <matplotlib.axis.XTick at 0x23992038c08>,\n",
       "  <matplotlib.axis.XTick at 0x2399203c708>,\n",
       "  <matplotlib.axis.XTick at 0x23992038808>,\n",
       "  <matplotlib.axis.XTick at 0x23992011d48>,\n",
       "  <matplotlib.axis.XTick at 0x23992000ec8>,\n",
       "  <matplotlib.axis.XTick at 0x2399203f288>,\n",
       "  <matplotlib.axis.XTick at 0x2399203fe48>,\n",
       "  <matplotlib.axis.XTick at 0x239920436c8>,\n",
       "  <matplotlib.axis.XTick at 0x239920472c8>,\n",
       "  <matplotlib.axis.XTick at 0x23992047988>,\n",
       "  <matplotlib.axis.XTick at 0x2399204a508>,\n",
       "  <matplotlib.axis.XTick at 0x2399204f088>,\n",
       "  <matplotlib.axis.XTick at 0x23992043e48>,\n",
       "  <matplotlib.axis.XTick at 0x23991fda8c8>,\n",
       "  <matplotlib.axis.XTick at 0x2399204f508>,\n",
       "  <matplotlib.axis.XTick at 0x23992052748>,\n",
       "  <matplotlib.axis.XTick at 0x239920550c8>,\n",
       "  <matplotlib.axis.XTick at 0x23992055c88>,\n",
       "  <matplotlib.axis.XTick at 0x23992059788>,\n",
       "  <matplotlib.axis.XTick at 0x2399205d048>,\n",
       "  <matplotlib.axis.XTick at 0x2399205dd48>,\n",
       "  <matplotlib.axis.XTick at 0x23992061848>,\n",
       "  <matplotlib.axis.XTick at 0x23992061748>,\n",
       "  <matplotlib.axis.XTick at 0x23992003408>,\n",
       "  <matplotlib.axis.XTick at 0x23992065648>,\n",
       "  <matplotlib.axis.XTick at 0x23992067288>,\n",
       "  <matplotlib.axis.XTick at 0x23992067908>,\n",
       "  <matplotlib.axis.XTick at 0x2399206c548>,\n",
       "  <matplotlib.axis.XTick at 0x239920700c8>,\n",
       "  <matplotlib.axis.XTick at 0x23992070b08>,\n",
       "  <matplotlib.axis.XTick at 0x23992074608>,\n",
       "  <matplotlib.axis.XTick at 0x23992077188>,\n",
       "  <matplotlib.axis.XTick at 0x23992074cc8>,\n",
       "  <matplotlib.axis.XTick at 0x23992077148>,\n",
       "  <matplotlib.axis.XTick at 0x23992077c08>,\n",
       "  <matplotlib.axis.XTick at 0x2399207b708>,\n",
       "  <matplotlib.axis.XTick at 0x2399207f288>,\n",
       "  <matplotlib.axis.XTick at 0x2399207fd08>,\n",
       "  <matplotlib.axis.XTick at 0x23992083808>,\n",
       "  <matplotlib.axis.XTick at 0x23992087308>,\n",
       "  <matplotlib.axis.XTick at 0x23992087dc8>,\n",
       "  <matplotlib.axis.XTick at 0x2399207fe08>,\n",
       "  <matplotlib.axis.XTick at 0x2399207b848>,\n",
       "  <matplotlib.axis.XTick at 0x2399208ab48>,\n",
       "  <matplotlib.axis.XTick at 0x2399208e608>,\n",
       "  <matplotlib.axis.XTick at 0x23992090248>,\n",
       "  <matplotlib.axis.XTick at 0x23992090b88>,\n",
       "  <matplotlib.axis.XTick at 0x23992095688>,\n",
       "  <matplotlib.axis.XTick at 0x23992099208>,\n",
       "  <matplotlib.axis.XTick at 0x23992099c48>,\n",
       "  <matplotlib.axis.XTick at 0x2399209d748>,\n",
       "  <matplotlib.axis.XTick at 0x2399209dfc8>,\n",
       "  <matplotlib.axis.XTick at 0x2399208e848>,\n",
       "  <matplotlib.axis.XTick at 0x239920a2548>,\n",
       "  <matplotlib.axis.XTick at 0x239920a4208>,\n",
       "  <matplotlib.axis.XTick at 0x239920a4808>,\n",
       "  <matplotlib.axis.XTick at 0x239920a9448>,\n",
       "  <matplotlib.axis.XTick at 0x239920a9dc8>,\n",
       "  <matplotlib.axis.XTick at 0x239920aca08>,\n",
       "  <matplotlib.axis.XTick at 0x239920b0508>,\n",
       "  <matplotlib.axis.XTick at 0x239920b40c8>,\n",
       "  <matplotlib.axis.XTick at 0x239920ac908>,\n",
       "  <matplotlib.axis.XTick at 0x239920b4048>,\n",
       "  <matplotlib.axis.XTick at 0x239920b4c88>,\n",
       "  <matplotlib.axis.XTick at 0x239920b7608>,\n",
       "  <matplotlib.axis.XTick at 0x239920bb208>,\n",
       "  <matplotlib.axis.XTick at 0x239920bbc08>,\n",
       "  <matplotlib.axis.XTick at 0x239920c0708>,\n",
       "  <matplotlib.axis.XTick at 0x239920c3288>,\n",
       "  <matplotlib.axis.XTick at 0x239920c3cc8>,\n",
       "  <matplotlib.axis.XTick at 0x239920bbd08>,\n",
       "  <matplotlib.axis.XTick at 0x239920b4248>,\n",
       "  <matplotlib.axis.XTick at 0x239920c7a48>,\n",
       "  <matplotlib.axis.XTick at 0x239920cc508>,\n",
       "  <matplotlib.axis.XTick at 0x239920ce1c8>,\n",
       "  <matplotlib.axis.XTick at 0x239920cea88>,\n",
       "  <matplotlib.axis.XTick at 0x239920d3588>,\n",
       "  <matplotlib.axis.XTick at 0x239920d6108>,\n",
       "  <matplotlib.axis.XTick at 0x239920d6b48>,\n",
       "  <matplotlib.axis.XTick at 0x239920db648>,\n",
       "  <matplotlib.axis.XTick at 0x239920dbec8>,\n",
       "  <matplotlib.axis.XTick at 0x239920cc5c8>,\n",
       "  <matplotlib.axis.XTick at 0x239920de448>,\n",
       "  <matplotlib.axis.XTick at 0x239920dec08>,\n",
       "  <matplotlib.axis.XTick at 0x239920e0708>,\n",
       "  <matplotlib.axis.XTick at 0x239920e5348>,\n",
       "  <matplotlib.axis.XTick at 0x239920e5e08>,\n",
       "  <matplotlib.axis.XTick at 0x239920ea908>,\n",
       "  <matplotlib.axis.XTick at 0x239920ed408>,\n",
       "  <matplotlib.axis.XTick at 0x239920edd88>,\n",
       "  <matplotlib.axis.XTick at 0x239920eda48>,\n",
       "  <matplotlib.axis.XTick at 0x239920dec48>,\n",
       "  <matplotlib.axis.XTick at 0x239920f1b88>,\n",
       "  <matplotlib.axis.XTick at 0x239920f4508>,\n",
       "  <matplotlib.axis.XTick at 0x239920f8108>,\n",
       "  <matplotlib.axis.XTick at 0x239920f8b08>,\n",
       "  <matplotlib.axis.XTick at 0x239920fb608>,\n",
       "  <matplotlib.axis.XTick at 0x239920ff188>,\n",
       "  <matplotlib.axis.XTick at 0x239920ffbc8>,\n",
       "  <matplotlib.axis.XTick at 0x239920f8c08>,\n",
       "  <matplotlib.axis.XTick at 0x239920f1a48>,\n",
       "  <matplotlib.axis.XTick at 0x23992104948>,\n",
       "  <matplotlib.axis.XTick at 0x23992106408>,\n",
       "  <matplotlib.axis.XTick at 0x23992106e48>,\n",
       "  <matplotlib.axis.XTick at 0x2399210a988>,\n",
       "  <matplotlib.axis.XTick at 0x2399210f488>,\n",
       "  <matplotlib.axis.XTick at 0x239921130c8>,\n",
       "  <matplotlib.axis.XTick at 0x23992113a48>,\n",
       "  <matplotlib.axis.XTick at 0x23992117548>,\n",
       "  <matplotlib.axis.XTick at 0x23992117dc8>,\n",
       "  <matplotlib.axis.XTick at 0x239921064c8>,\n",
       "  <matplotlib.axis.XTick at 0x2399211a348>,\n",
       "  <matplotlib.axis.XTick at 0x2399211ac88>,\n",
       "  <matplotlib.axis.XTick at 0x2399211d608>,\n",
       "  <matplotlib.axis.XTick at 0x239921222c8>,\n",
       "  <matplotlib.axis.XTick at 0x23992122d08>,\n",
       "  <matplotlib.axis.XTick at 0x23992126808>,\n",
       "  <matplotlib.axis.XTick at 0x23992129308>,\n",
       "  <matplotlib.axis.XTick at 0x23992129dc8>,\n",
       "  <matplotlib.axis.XTick at 0x23992126908>,\n",
       "  <matplotlib.axis.XTick at 0x239921175c8>,\n",
       "  <matplotlib.axis.XTick at 0x23992087e48>,\n",
       "  <matplotlib.axis.XTick at 0x2399212c848>,\n",
       "  <matplotlib.axis.XTick at 0x2399212f1c8>,\n",
       "  <matplotlib.axis.XTick at 0x2399212fb08>,\n",
       "  <matplotlib.axis.XTick at 0x23992133488>,\n",
       "  <matplotlib.axis.XTick at 0x23992133c48>,\n",
       "  <matplotlib.axis.XTick at 0x23992137948>,\n",
       "  <matplotlib.axis.XTick at 0x2399213b448>,\n",
       "  <matplotlib.axis.XTick at 0x23992133e88>,\n",
       "  <matplotlib.axis.XTick at 0x2399213b688>,\n",
       "  <matplotlib.axis.XTick at 0x239921400c8>,\n",
       "  <matplotlib.axis.XTick at 0x23992140a08>,\n",
       "  <matplotlib.axis.XTick at 0x23992142388>,\n",
       "  <matplotlib.axis.XTick at 0x23992146088>,\n",
       "  <matplotlib.axis.XTick at 0x23992146a88>,\n",
       "  <matplotlib.axis.XTick at 0x2399214a588>,\n",
       "  <matplotlib.axis.XTick at 0x2399214f108>,\n",
       "  <matplotlib.axis.XTick at 0x2399214f908>,\n",
       "  <matplotlib.axis.XTick at 0x23992142608>,\n",
       "  <matplotlib.axis.XTick at 0x23992153208>,\n",
       "  <matplotlib.axis.XTick at 0x23992153888>,\n",
       "  <matplotlib.axis.XTick at 0x23992157208>,\n",
       "  <matplotlib.axis.XTick at 0x23992157e08>,\n",
       "  <matplotlib.axis.XTick at 0x2399215a908>,\n",
       "  <matplotlib.axis.XTick at 0x2399215e408>,\n",
       "  <matplotlib.axis.XTick at 0x2399215ed88>,\n",
       "  <matplotlib.axis.XTick at 0x239921619c8>,\n",
       "  <matplotlib.axis.XTick at 0x239921618c8>,\n",
       "  <matplotlib.axis.XTick at 0x23992133c08>,\n",
       "  <matplotlib.axis.XTick at 0x239921657c8>,\n",
       "  <matplotlib.axis.XTick at 0x23992169148>,\n",
       "  <matplotlib.axis.XTick at 0x23992169a88>,\n",
       "  <matplotlib.axis.XTick at 0x2399216d6c8>,\n",
       "  <matplotlib.axis.XTick at 0x23992170248>,\n",
       "  <matplotlib.axis.XTick at 0x23992170c88>,\n",
       "  <matplotlib.axis.XTick at 0x23992174788>,\n",
       "  <matplotlib.axis.XTick at 0x23992178048>,\n",
       "  <matplotlib.axis.XTick at 0x23992170048>,\n",
       "  <matplotlib.axis.XTick at 0x239921782c8>,\n",
       "  <matplotlib.axis.XTick at 0x2399217b208>,\n",
       "  <matplotlib.axis.XTick at 0x2399217b888>,\n",
       "  <matplotlib.axis.XTick at 0x2399217e408>,\n",
       "  <matplotlib.axis.XTick at 0x2399217ee88>,\n",
       "  <matplotlib.axis.XTick at 0x23992182988>,\n",
       "  <matplotlib.axis.XTick at 0x23992187488>,\n",
       "  <matplotlib.axis.XTick at 0x2399218b0c8>,\n",
       "  <matplotlib.axis.XTick at 0x2399217e488>,\n",
       "  <matplotlib.axis.XTick at 0x2399217b6c8>,\n",
       "  <matplotlib.axis.XTick at 0x2399218f188>,\n",
       "  <matplotlib.axis.XTick at 0x2399218f788>,\n",
       "  <matplotlib.axis.XTick at 0x23992192108>,\n",
       "  <matplotlib.axis.XTick at 0x23992192d08>,\n",
       "  <matplotlib.axis.XTick at 0x23992196808>,\n",
       "  <matplotlib.axis.XTick at 0x23992199308>,\n",
       "  <matplotlib.axis.XTick at 0x23992199dc8>,\n",
       "  <matplotlib.axis.XTick at 0x2399219d8c8>,\n",
       "  <matplotlib.axis.XTick at 0x2399219d7c8>,\n",
       "  <matplotlib.axis.XTick at 0x23992165908>,\n",
       "  <matplotlib.axis.XTick at 0x239921a26c8>,\n",
       "  <matplotlib.axis.XTick at 0x239921a52c8>,\n",
       "  <matplotlib.axis.XTick at 0x239921a5988>,\n",
       "  <matplotlib.axis.XTick at 0x239921a85c8>,\n",
       "  <matplotlib.axis.XTick at 0x239921ac148>,\n",
       "  <matplotlib.axis.XTick at 0x239921acb88>,\n",
       "  <matplotlib.axis.XTick at 0x239921af688>,\n",
       "  <matplotlib.axis.XTick at 0x239921b4208>,\n",
       "  <matplotlib.axis.XTick at 0x239921ac1c8>,\n",
       "  <matplotlib.axis.XTick at 0x239921b4288>,\n",
       "  <matplotlib.axis.XTick at 0x239921b6188>,\n",
       "  <matplotlib.axis.XTick at 0x239921b6788>,\n",
       "  <matplotlib.axis.XTick at 0x239921bb308>,\n",
       "  <matplotlib.axis.XTick at 0x239921bbd88>,\n",
       "  <matplotlib.axis.XTick at 0x239921bf888>,\n",
       "  <matplotlib.axis.XTick at 0x239921c5388>,\n",
       "  <matplotlib.axis.XTick at 0x239921c5e48>,\n",
       "  <matplotlib.axis.XTick at 0x239921bbe88>,\n",
       "  <matplotlib.axis.XTick at 0x239921b68c8>,\n",
       "  <matplotlib.axis.XTick at 0x239921c8f08>,\n",
       "  <matplotlib.axis.XTick at 0x239921cc688>,\n",
       "  <matplotlib.axis.XTick at 0x239921cf2c8>,\n",
       "  <matplotlib.axis.XTick at 0x239921cfc08>,\n",
       "  <matplotlib.axis.XTick at 0x239921d3708>,\n",
       "  <matplotlib.axis.XTick at 0x239921d7288>,\n",
       "  <matplotlib.axis.XTick at 0x239921d7cc8>,\n",
       "  <matplotlib.axis.XTick at 0x239921db7c8>,\n",
       "  <matplotlib.axis.XTick at 0x239921db6c8>,\n",
       "  <matplotlib.axis.XTick at 0x2399219d448>,\n",
       "  <matplotlib.axis.XTick at 0x239921de5c8>,\n",
       "  <matplotlib.axis.XTick at 0x239921e1208>,\n",
       "  <matplotlib.axis.XTick at 0x239921e1888>,\n",
       "  <matplotlib.axis.XTick at 0x239921e54c8>,\n",
       "  <matplotlib.axis.XTick at 0x239921e8088>,\n",
       "  <matplotlib.axis.XTick at 0x239921e8a88>,\n",
       "  <matplotlib.axis.XTick at 0x239921ed588>,\n",
       "  <matplotlib.axis.XTick at 0x239921f1108>,\n",
       "  <matplotlib.axis.XTick at 0x239921edc48>,\n",
       "  <matplotlib.axis.XTick at 0x239921f10c8>,\n",
       "  <matplotlib.axis.XTick at 0x239921f1f08>,\n",
       "  <matplotlib.axis.XTick at 0x239921f5688>,\n",
       "  <matplotlib.axis.XTick at 0x239921f8288>,\n",
       "  <matplotlib.axis.XTick at 0x239921f8c88>,\n",
       "  <matplotlib.axis.XTick at 0x239921fc788>,\n",
       "  <matplotlib.axis.XTick at 0x23992200048>,\n",
       "  <matplotlib.axis.XTick at 0x23992200d48>,\n",
       "  <matplotlib.axis.XTick at 0x239921f8d88>,\n",
       "  <matplotlib.axis.XTick at 0x239921f1bc8>,\n",
       "  <matplotlib.axis.XTick at 0x23992204ac8>,\n",
       "  <matplotlib.axis.XTick at 0x23992207588>,\n",
       "  <matplotlib.axis.XTick at 0x2399220b248>,\n",
       "  <matplotlib.axis.XTick at 0x2399220bb08>,\n",
       "  <matplotlib.axis.XTick at 0x23992210608>,\n",
       "  <matplotlib.axis.XTick at 0x23992213188>,\n",
       "  <matplotlib.axis.XTick at 0x23992213bc8>,\n",
       "  <matplotlib.axis.XTick at 0x239922176c8>,\n",
       "  <matplotlib.axis.XTick at 0x23992217f48>,\n",
       "  <matplotlib.axis.XTick at 0x239922076c8>,\n",
       "  <matplotlib.axis.XTick at 0x239921a22c8>,\n",
       "  <matplotlib.axis.XTick at 0x2399221a308>,\n",
       "  <matplotlib.axis.XTick at 0x2399221ac48>,\n",
       "  <matplotlib.axis.XTick at 0x2399221c5c8>,\n",
       "  <matplotlib.axis.XTick at 0x2399221f208>,\n",
       "  <matplotlib.axis.XTick at 0x2399221f888>,\n",
       "  <matplotlib.axis.XTick at 0x23992225408>,\n",
       "  <matplotlib.axis.XTick at 0x23992225e88>,\n",
       "  <matplotlib.axis.XTick at 0x23992225d08>,\n",
       "  <matplotlib.axis.XTick at 0x23992207448>,\n",
       "  <matplotlib.axis.XTick at 0x23992229bc8>,\n",
       "  <matplotlib.axis.XTick at 0x2399222c548>,\n",
       "  <matplotlib.axis.XTick at 0x2399222e208>,\n",
       "  <matplotlib.axis.XTick at 0x2399222eac8>,\n",
       "  <matplotlib.axis.XTick at 0x239922335c8>,\n",
       "  <matplotlib.axis.XTick at 0x23992238148>,\n",
       "  <matplotlib.axis.XTick at 0x23992238b88>,\n",
       "  <matplotlib.axis.XTick at 0x2399223b688>,\n",
       "  <matplotlib.axis.XTick at 0x239922334c8>,\n",
       "  <matplotlib.axis.XTick at 0x2399223bd08>,\n",
       "  <matplotlib.axis.XTick at 0x23992241348>,\n",
       "  <matplotlib.axis.XTick at 0x23992241c88>,\n",
       "  <matplotlib.axis.XTick at 0x23992243808>,\n",
       "  <matplotlib.axis.XTick at 0x239922482c8>,\n",
       "  <matplotlib.axis.XTick at 0x23992248d88>,\n",
       "  <matplotlib.axis.XTick at 0x2399224b888>,\n",
       "  <matplotlib.axis.XTick at 0x2399224f388>,\n",
       "  <matplotlib.axis.XTick at 0x2399224fc08>,\n",
       "  <matplotlib.axis.XTick at 0x239922436c8>,\n",
       "  <matplotlib.axis.XTick at 0x23992252188>,\n",
       "  <matplotlib.axis.XTick at 0x23992252b88>,\n",
       "  <matplotlib.axis.XTick at 0x23992256508>,\n",
       "  <matplotlib.axis.XTick at 0x2399225a1c8>,\n",
       "  <matplotlib.axis.XTick at 0x2399225ac08>,\n",
       "  <matplotlib.axis.XTick at 0x2399225e708>,\n",
       "  <matplotlib.axis.XTick at 0x23992262288>,\n",
       "  <matplotlib.axis.XTick at 0x23992262cc8>,\n",
       "  <matplotlib.axis.XTick at 0x23992262bc8>,\n",
       "  <matplotlib.axis.XTick at 0x23992241f08>,\n",
       "  <matplotlib.axis.XTick at 0x23992266ac8>,\n",
       "  <matplotlib.axis.XTick at 0x23992269448>,\n",
       "  <matplotlib.axis.XTick at 0x23992269c08>,\n",
       "  <matplotlib.axis.XTick at 0x2399226c9c8>,\n",
       "  <matplotlib.axis.XTick at 0x239922714c8>,\n",
       "  <matplotlib.axis.XTick at 0x23992275088>,\n",
       "  <matplotlib.axis.XTick at 0x23992275a88>,\n",
       "  <matplotlib.axis.XTick at 0x23992279588>,\n",
       "  <matplotlib.axis.XTick at 0x239922713c8>,\n",
       "  <matplotlib.axis.XTick at 0x23992279688>,\n",
       "  <matplotlib.axis.XTick at 0x2399227c248>,\n",
       "  <matplotlib.axis.XTick at 0x2399227cb88>,\n",
       "  <matplotlib.axis.XTick at 0x2399227f708>,\n",
       "  <matplotlib.axis.XTick at 0x23992283248>,\n",
       "  <matplotlib.axis.XTick at 0x23992283c88>,\n",
       "  <matplotlib.axis.XTick at 0x23992287788>,\n",
       "  <matplotlib.axis.XTick at 0x2399228a048>,\n",
       "  <matplotlib.axis.XTick at 0x2399228ab08>,\n",
       "  <matplotlib.axis.XTick at 0x2399227fd88>,\n",
       "  <matplotlib.axis.XTick at 0x2399228f3c8>,\n",
       "  <matplotlib.axis.XTick at 0x2399228fa88>,\n",
       "  <matplotlib.axis.XTick at 0x23992292408>,\n",
       "  <matplotlib.axis.XTick at 0x239922960c8>,\n",
       "  <matplotlib.axis.XTick at 0x23992296b08>,\n",
       "  <matplotlib.axis.XTick at 0x2399229a608>,\n",
       "  <matplotlib.axis.XTick at 0x2399229e188>,\n",
       "  <matplotlib.axis.XTick at 0x2399229ebc8>,\n",
       "  <matplotlib.axis.XTick at 0x2399229eac8>,\n",
       "  <matplotlib.axis.XTick at 0x2399228adc8>,\n",
       "  <matplotlib.axis.XTick at 0x239922a29c8>,\n",
       "  <matplotlib.axis.XTick at 0x239922a4348>,\n",
       "  <matplotlib.axis.XTick at 0x239922a4c88>,\n",
       "  <matplotlib.axis.XTick at 0x239922a98c8>,\n",
       "  <matplotlib.axis.XTick at 0x239922ae3c8>,\n",
       "  <matplotlib.axis.XTick at 0x239922aee88>,\n",
       "  <matplotlib.axis.XTick at 0x239922b1988>,\n",
       "  <matplotlib.axis.XTick at 0x239922b5488>,\n",
       "  <matplotlib.axis.XTick at 0x239922ae248>,\n",
       "  <matplotlib.axis.XTick at 0x239922b5588>,\n",
       "  <matplotlib.axis.XTick at 0x239922b8148>,\n",
       "  <matplotlib.axis.XTick at 0x239922b8a88>,\n",
       "  <matplotlib.axis.XTick at 0x239922ba608>,\n",
       "  <matplotlib.axis.XTick at 0x239922c0148>,\n",
       "  <matplotlib.axis.XTick at 0x239922c0b88>,\n",
       "  <matplotlib.axis.XTick at 0x239922c5688>,\n",
       "  <matplotlib.axis.XTick at 0x239922c8208>,\n",
       "  <matplotlib.axis.XTick at 0x239922c8a08>,\n",
       "  <matplotlib.axis.XTick at 0x239922baf88>,\n",
       "  <matplotlib.axis.XTick at 0x239922cc308>,\n",
       "  <matplotlib.axis.XTick at 0x239922cc988>,\n",
       "  <matplotlib.axis.XTick at 0x239922cf308>,\n",
       "  <matplotlib.axis.XTick at 0x239922cfdc8>,\n",
       "  <matplotlib.axis.XTick at 0x239922d2a08>,\n",
       "  <matplotlib.axis.XTick at 0x239922d6508>,\n",
       "  <matplotlib.axis.XTick at 0x239922db0c8>,\n",
       "  <matplotlib.axis.XTick at 0x239922dbac8>,\n",
       "  <matplotlib.axis.XTick at 0x239922db9c8>,\n",
       "  <matplotlib.axis.XTick at 0x239922c0788>,\n",
       "  <matplotlib.axis.XTick at 0x239922df8c8>,\n",
       "  <matplotlib.axis.XTick at 0x239922e2248>,\n",
       "  <matplotlib.axis.XTick at 0x239922e2b88>,\n",
       "  <matplotlib.axis.XTick at 0x239922e67c8>,\n",
       "  <matplotlib.axis.XTick at 0x239922ea2c8>,\n",
       "  <matplotlib.axis.XTick at 0x239922ead88>,\n",
       "  <matplotlib.axis.XTick at 0x239922ee888>,\n",
       "  <matplotlib.axis.XTick at 0x239922f1388>,\n",
       "  <matplotlib.axis.XTick at 0x239922ea3c8>,\n",
       "  <matplotlib.axis.XTick at 0x239922f13c8>,\n",
       "  <matplotlib.axis.XTick at 0x239922f52c8>,\n",
       "  <matplotlib.axis.XTick at 0x239922f5988>,\n",
       "  <matplotlib.axis.XTick at 0x239922f9508>,\n",
       "  <matplotlib.axis.XTick at 0x239922fd088>,\n",
       "  <matplotlib.axis.XTick at 0x239922fda88>,\n",
       "  <matplotlib.axis.XTick at 0x23992300588>,\n",
       "  <matplotlib.axis.XTick at 0x23992304108>,\n",
       "  <matplotlib.axis.XTick at 0x23992304908>,\n",
       "  <matplotlib.axis.XTick at 0x239922f9588>,\n",
       "  <matplotlib.axis.XTick at 0x239922df148>,\n",
       "  <matplotlib.axis.XTick at 0x239922666c8>,\n",
       "  <matplotlib.axis.XTick at 0x23992307748>,\n",
       "  <matplotlib.axis.XTick at 0x239923090c8>,\n",
       "  <matplotlib.axis.XTick at 0x23992309a08>,\n",
       "  <matplotlib.axis.XTick at 0x2399230d388>,\n",
       "  <matplotlib.axis.XTick at 0x2399230ddc8>,\n",
       "  <matplotlib.axis.XTick at 0x239923129c8>,\n",
       "  <matplotlib.axis.XTick at 0x23992309c88>,\n",
       "  <matplotlib.axis.XTick at 0x23992307808>,\n",
       "  <matplotlib.axis.XTick at 0x23992317808>,\n",
       "  <matplotlib.axis.XTick at 0x23992319188>,\n",
       "  <matplotlib.axis.XTick at 0x23992319ac8>,\n",
       "  <matplotlib.axis.XTick at 0x2399231d6c8>,\n",
       "  <matplotlib.axis.XTick at 0x23992321248>,\n",
       "  <matplotlib.axis.XTick at 0x23992321c88>,\n",
       "  <matplotlib.axis.XTick at 0x23992325788>,\n",
       "  <matplotlib.axis.XTick at 0x23992328048>,\n",
       "  <matplotlib.axis.XTick at 0x23992325e48>,\n",
       "  <matplotlib.axis.XTick at 0x23992319048>,\n",
       "  <matplotlib.axis.XTick at 0x2399232d088>,\n",
       "  <matplotlib.axis.XTick at 0x2399232d9c8>,\n",
       "  <matplotlib.axis.XTick at 0x23992330348>,\n",
       "  <matplotlib.axis.XTick at 0x239923340c8>,\n",
       "  <matplotlib.axis.XTick at 0x23992334a48>,\n",
       "  <matplotlib.axis.XTick at 0x23992338548>,\n",
       "  <matplotlib.axis.XTick at 0x2399233b0c8>,\n",
       "  <matplotlib.axis.XTick at 0x2399233bb08>,\n",
       "  <matplotlib.axis.XTick at 0x23992338448>,\n",
       "  <matplotlib.axis.XTick at 0x2399232db08>,\n",
       "  <matplotlib.axis.XTick at 0x239923417c8>,\n",
       "  <matplotlib.axis.XTick at 0x23992343148>,\n",
       "  <matplotlib.axis.XTick at 0x23992343c88>,\n",
       "  <matplotlib.axis.XTick at 0x23992347748>,\n",
       "  <matplotlib.axis.XTick at 0x2399234b2c8>,\n",
       "  <matplotlib.axis.XTick at 0x2399234bd08>,\n",
       "  <matplotlib.axis.XTick at 0x23992350808>,\n",
       "  <matplotlib.axis.XTick at 0x2399234b148>,\n",
       "  <matplotlib.axis.XTick at 0x23992341fc8>,\n",
       "  <matplotlib.axis.XTick at 0x23992354588>,\n",
       "  <matplotlib.axis.XTick at 0x239923562c8>,\n",
       "  <matplotlib.axis.XTick at 0x23992356988>,\n",
       "  <matplotlib.axis.XTick at 0x2399235b5c8>,\n",
       "  <matplotlib.axis.XTick at 0x2399235e148>,\n",
       "  <matplotlib.axis.XTick at 0x2399235eb88>,\n",
       "  <matplotlib.axis.XTick at 0x23992363688>,\n",
       "  <matplotlib.axis.XTick at 0x23992366208>,\n",
       "  <matplotlib.axis.XTick at 0x23992363cc8>,\n",
       "  <matplotlib.axis.XTick at 0x23992341888>,\n",
       "  <matplotlib.axis.XTick at 0x2399236a248>,\n",
       "  <matplotlib.axis.XTick at 0x2399236a8c8>,\n",
       "  <matplotlib.axis.XTick at 0x2399236d248>,\n",
       "  <matplotlib.axis.XTick at 0x2399236de48>,\n",
       "  <matplotlib.axis.XTick at 0x23992370948>,\n",
       "  <matplotlib.axis.XTick at 0x23992374448>,\n",
       "  <matplotlib.axis.XTick at 0x23992374dc8>,\n",
       "  <matplotlib.axis.XTick at 0x23992377a08>,\n",
       "  <matplotlib.axis.XTick at 0x23992374548>,\n",
       "  <matplotlib.axis.XTick at 0x23992366a88>,\n",
       "  <matplotlib.axis.XTick at 0x2399237c6c8>,\n",
       "  <matplotlib.axis.XTick at 0x2399237f2c8>,\n",
       "  <matplotlib.axis.XTick at 0x2399237fb88>,\n",
       "  <matplotlib.axis.XTick at 0x23992383648>,\n",
       "  <matplotlib.axis.XTick at 0x239923871c8>,\n",
       "  <matplotlib.axis.XTick at 0x23992387c08>,\n",
       "  <matplotlib.axis.XTick at 0x2399238c708>,\n",
       "  <matplotlib.axis.XTick at 0x23992387808>,\n",
       "  <matplotlib.axis.XTick at 0x2399237c948>,\n",
       "  <matplotlib.axis.XTick at 0x23992390488>,\n",
       "  <matplotlib.axis.XTick at 0x23992392208>,\n",
       "  <matplotlib.axis.XTick at 0x23992392888>,\n",
       "  <matplotlib.axis.XTick at 0x239923984c8>,\n",
       "  <matplotlib.axis.XTick at 0x2399239b088>,\n",
       "  <matplotlib.axis.XTick at 0x2399239ba88>,\n",
       "  <matplotlib.axis.XTick at 0x2399239f588>,\n",
       "  <matplotlib.axis.XTick at 0x239923a2108>,\n",
       "  <matplotlib.axis.XTick at 0x2399239ff48>,\n",
       "  <matplotlib.axis.XTick at 0x239923908c8>,\n",
       "  <matplotlib.axis.XTick at 0x239923a51c8>,\n",
       "  <matplotlib.axis.XTick at 0x239923a57c8>,\n",
       "  <matplotlib.axis.XTick at 0x239923a9148>,\n",
       "  <matplotlib.axis.XTick at 0x239923a9d48>,\n",
       "  <matplotlib.axis.XTick at 0x239923ac848>,\n",
       "  <matplotlib.axis.XTick at 0x239923b0348>,\n",
       "  <matplotlib.axis.XTick at 0x239923b0e08>,\n",
       "  <matplotlib.axis.XTick at 0x239923b4908>,\n",
       "  <matplotlib.axis.XTick at 0x239923b0448>,\n",
       "  <matplotlib.axis.XTick at 0x2399237cec8>,\n",
       "  <matplotlib.axis.XTick at 0x239923ba5c8>,\n",
       "  <matplotlib.axis.XTick at 0x239923bc208>,\n",
       "  <matplotlib.axis.XTick at 0x239923bca88>,\n",
       "  <matplotlib.axis.XTick at 0x239923c1548>,\n",
       "  <matplotlib.axis.XTick at 0x239923c40c8>,\n",
       "  <matplotlib.axis.XTick at 0x239923c4b08>,\n",
       "  <matplotlib.axis.XTick at 0x239923c9608>,\n",
       "  <matplotlib.axis.XTick at 0x239923c4a08>,\n",
       "  <matplotlib.axis.XTick at 0x23992390288>,\n",
       "  <matplotlib.axis.XTick at 0x239923cc388>,\n",
       "  <matplotlib.axis.XTick at 0x239923cf188>,\n",
       "  <matplotlib.axis.XTick at 0x239923cf788>,\n",
       "  <matplotlib.axis.XTick at 0x239923d43c8>,\n",
       "  <matplotlib.axis.XTick at 0x239923d4e88>,\n",
       "  <matplotlib.axis.XTick at 0x239923d8988>,\n",
       "  <matplotlib.axis.XTick at 0x239923db488>,\n",
       "  <matplotlib.axis.XTick at 0x239923df0c8>,\n",
       "  <matplotlib.axis.XTick at 0x239923dbe48>,\n",
       "  <matplotlib.axis.XTick at 0x239923cccc8>,\n",
       "  <matplotlib.axis.XTick at 0x239923dfe48>,\n",
       "  <matplotlib.axis.XTick at 0x239923e26c8>,\n",
       "  <matplotlib.axis.XTick at 0x239923e62c8>,\n",
       "  <matplotlib.axis.XTick at 0x239923e6c48>,\n",
       "  <matplotlib.axis.XTick at 0x239923ea748>,\n",
       "  <matplotlib.axis.XTick at 0x239923ee2c8>,\n",
       "  <matplotlib.axis.XTick at 0x239923eed08>,\n",
       "  <matplotlib.axis.XTick at 0x239923f2808>,\n",
       "  <matplotlib.axis.XTick at 0x239923ea648>,\n",
       "  <matplotlib.axis.XTick at 0x239923c9c48>,\n",
       "  <matplotlib.axis.XTick at 0x23992350888>,\n",
       "  <matplotlib.axis.XTick at 0x239923f7288>,\n",
       "  <matplotlib.axis.XTick at 0x239923f7bc8>,\n",
       "  <matplotlib.axis.XTick at 0x239923f8548>,\n",
       "  <matplotlib.axis.XTick at 0x239923fb208>,\n",
       "  <matplotlib.axis.XTick at 0x239923fb808>,\n",
       "  <matplotlib.axis.XTick at 0x23992401388>,\n",
       "  <matplotlib.axis.XTick at 0x23992401e48>,\n",
       "  <matplotlib.axis.XTick at 0x23992401408>,\n",
       "  <matplotlib.axis.XTick at 0x239923170c8>,\n",
       "  <matplotlib.axis.XTick at 0x23992404ac8>,\n",
       "  <matplotlib.axis.XTick at 0x23992408448>,\n",
       "  <matplotlib.axis.XTick at 0x23992408c08>,\n",
       "  <matplotlib.axis.XTick at 0x2399240a9c8>,\n",
       "  <matplotlib.axis.XTick at 0x2399240f4c8>,\n",
       "  <matplotlib.axis.XTick at 0x23992412088>,\n",
       "  <matplotlib.axis.XTick at 0x23992412a88>,\n",
       "  <matplotlib.axis.XTick at 0x2399240aa48>,\n",
       "  <matplotlib.axis.XTick at 0x23992404908>,\n",
       "  <matplotlib.axis.XTick at 0x23992416808>,\n",
       "  <matplotlib.axis.XTick at 0x2399241a2c8>,\n",
       "  <matplotlib.axis.XTick at 0x2399241ac08>,\n",
       "  <matplotlib.axis.XTick at 0x2399241e848>,\n",
       "  <matplotlib.axis.XTick at 0x23992421348>,\n",
       "  <matplotlib.axis.XTick at 0x23992421e08>,\n",
       "  <matplotlib.axis.XTick at 0x23992425908>,\n",
       "  <matplotlib.axis.XTick at 0x23992429408>,\n",
       "  <matplotlib.axis.XTick at 0x23992425fc8>,\n",
       "  <matplotlib.axis.XTick at 0x2399241a108>,\n",
       "  <matplotlib.axis.XTick at 0x2399242e208>,\n",
       "  <matplotlib.axis.XTick at 0x2399242eb48>,\n",
       "  <matplotlib.axis.XTick at 0x239924304c8>,\n",
       "  <matplotlib.axis.XTick at 0x23992435188>,\n",
       "  <matplotlib.axis.XTick at 0x23992435bc8>,\n",
       "  <matplotlib.axis.XTick at 0x239924386c8>,\n",
       "  <matplotlib.axis.XTick at 0x2399243d248>,\n",
       "  <matplotlib.axis.XTick at 0x2399243dc88>,\n",
       "  <matplotlib.axis.XTick at 0x239924385c8>,\n",
       "  <matplotlib.axis.XTick at 0x2399242ec88>,\n",
       "  <matplotlib.axis.XTick at 0x23992440948>,\n",
       "  <matplotlib.axis.XTick at 0x239924442c8>,\n",
       "  <matplotlib.axis.XTick at 0x23992444e08>,\n",
       "  <matplotlib.axis.XTick at 0x239924478c8>,\n",
       "  <matplotlib.axis.XTick at 0x2399244c3c8>,\n",
       "  <matplotlib.axis.XTick at 0x2399244ce88>,\n",
       "  <matplotlib.axis.XTick at 0x23992450988>,\n",
       "  <matplotlib.axis.XTick at 0x2399244c2c8>,\n",
       "  <matplotlib.axis.XTick at 0x23992440c48>,\n",
       "  <matplotlib.axis.XTick at 0x23992454708>,\n",
       "  <matplotlib.axis.XTick at 0x239924571c8>,\n",
       "  <matplotlib.axis.XTick at 0x23992457b08>,\n",
       "  <matplotlib.axis.XTick at 0x2399245b748>,\n",
       "  <matplotlib.axis.XTick at 0x2399245e2c8>,\n",
       "  <matplotlib.axis.XTick at 0x2399245ed08>,\n",
       "  <matplotlib.axis.XTick at 0x23992462808>,\n",
       "  <matplotlib.axis.XTick at 0x23992467308>,\n",
       "  <matplotlib.axis.XTick at 0x23992462ec8>,\n",
       "  <matplotlib.axis.XTick at 0x23992457088>,\n",
       "  <matplotlib.axis.XTick at 0x2399246a108>,\n",
       "  <matplotlib.axis.XTick at 0x2399246aa48>,\n",
       "  <matplotlib.axis.XTick at 0x2399246e3c8>,\n",
       "  <matplotlib.axis.XTick at 0x239924710c8>,\n",
       "  <matplotlib.axis.XTick at 0x23992471ac8>,\n",
       "  <matplotlib.axis.XTick at 0x239924765c8>,\n",
       "  <matplotlib.axis.XTick at 0x23992479148>,\n",
       "  <matplotlib.axis.XTick at 0x23992479b88>,\n",
       "  <matplotlib.axis.XTick at 0x239924764c8>,\n",
       "  <matplotlib.axis.XTick at 0x2399246ab88>,\n",
       "  <matplotlib.axis.XTick at 0x2399247d848>,\n",
       "  <matplotlib.axis.XTick at 0x2399247f1c8>,\n",
       "  <matplotlib.axis.XTick at 0x2399247fd08>,\n",
       "  <matplotlib.axis.XTick at 0x239924857c8>,\n",
       "  <matplotlib.axis.XTick at 0x239924882c8>,\n",
       "  <matplotlib.axis.XTick at 0x23992488d88>,\n",
       "  <matplotlib.axis.XTick at 0x2399248c888>,\n",
       "  <matplotlib.axis.XTick at 0x23992488148>,\n",
       "  <matplotlib.axis.XTick at 0x2399247dfc8>,\n",
       "  <matplotlib.axis.XTick at 0x2399248f608>,\n",
       "  <matplotlib.axis.XTick at 0x239940030c8>,\n",
       "  <matplotlib.axis.XTick at 0x23994003a08>,\n",
       "  <matplotlib.axis.XTick at 0x23994006648>,\n",
       "  <matplotlib.axis.XTick at 0x2399400a1c8>,\n",
       "  <matplotlib.axis.XTick at 0x2399400ac08>,\n",
       "  <matplotlib.axis.XTick at 0x2399400e708>,\n",
       "  <matplotlib.axis.XTick at 0x23994013288>,\n",
       "  <matplotlib.axis.XTick at 0x2399400edc8>,\n",
       "  <matplotlib.axis.XTick at 0x23994003208>,\n",
       "  <matplotlib.axis.XTick at 0x239940162c8>,\n",
       "  <matplotlib.axis.XTick at 0x23994016948>,\n",
       "  <matplotlib.axis.XTick at 0x2399401a2c8>,\n",
       "  <matplotlib.axis.XTick at 0x2399401ad88>,\n",
       "  <matplotlib.axis.XTick at 0x2399401d9c8>,\n",
       "  <matplotlib.axis.XTick at 0x239940224c8>,\n",
       "  <matplotlib.axis.XTick at 0x23994025088>,\n",
       "  <matplotlib.axis.XTick at 0x23994025a88>,\n",
       "  <matplotlib.axis.XTick at 0x239940223c8>,\n",
       "  <matplotlib.axis.XTick at 0x2399247d908>,\n",
       "  <matplotlib.axis.XTick at 0x23994029748>,\n",
       "  <matplotlib.axis.XTick at 0x2399402c0c8>,\n",
       "  <matplotlib.axis.XTick at 0x2399402cc08>,\n",
       "  <matplotlib.axis.XTick at 0x239940316c8>,\n",
       "  <matplotlib.axis.XTick at 0x23994035248>,\n",
       "  <matplotlib.axis.XTick at 0x23994035c88>,\n",
       "  <matplotlib.axis.XTick at 0x23994039788>,\n",
       "  <matplotlib.axis.XTick at 0x23994035048>,\n",
       "  <matplotlib.axis.XTick at 0x23994029ec8>,\n",
       "  <matplotlib.axis.XTick at 0x2399403c508>,\n",
       "  <matplotlib.axis.XTick at 0x2399403f288>,\n",
       "  <matplotlib.axis.XTick at 0x2399403f908>,\n",
       "  <matplotlib.axis.XTick at 0x23994043548>,\n",
       "  <matplotlib.axis.XTick at 0x239940490c8>,\n",
       "  <matplotlib.axis.XTick at 0x23994049b08>,\n",
       "  <matplotlib.axis.XTick at 0x2399404c608>,\n",
       "  <matplotlib.axis.XTick at 0x23994050188>,\n",
       "  <matplotlib.axis.XTick at 0x2399404cfc8>,\n",
       "  <matplotlib.axis.XTick at 0x2399403c388>,\n",
       "  <matplotlib.axis.XTick at 0x23992429dc8>,\n",
       "  <matplotlib.axis.XTick at 0x23994050f08>,\n",
       "  <matplotlib.axis.XTick at 0x23994053688>,\n",
       "  <matplotlib.axis.XTick at 0x239940552c8>,\n",
       "  <matplotlib.axis.XTick at 0x23994055948>,\n",
       "  <matplotlib.axis.XTick at 0x2399405a2c8>,\n",
       "  <matplotlib.axis.XTick at 0x2399405ae08>,\n",
       "  <matplotlib.axis.XTick at 0x2399405e8c8>,\n",
       "  <matplotlib.axis.XTick at 0x2399405e7c8>,\n",
       "  <matplotlib.axis.XTick at 0x23992416688>,\n",
       "  <matplotlib.axis.XTick at 0x23994062608>,\n",
       "  <matplotlib.axis.XTick at 0x23994064248>,\n",
       "  <matplotlib.axis.XTick at 0x239940648c8>,\n",
       "  <matplotlib.axis.XTick at 0x23994069508>,\n",
       "  <matplotlib.axis.XTick at 0x2399406c0c8>,\n",
       "  <matplotlib.axis.XTick at 0x2399406cac8>,\n",
       "  <matplotlib.axis.XTick at 0x239940705c8>,\n",
       "  <matplotlib.axis.XTick at 0x23994073148>,\n",
       "  <matplotlib.axis.XTick at 0x23994070c88>,\n",
       "  <matplotlib.axis.XTick at 0x23994073108>,\n",
       "  <matplotlib.axis.XTick at 0x23994073e48>,\n",
       "  <matplotlib.axis.XTick at 0x239940776c8>,\n",
       "  <matplotlib.axis.XTick at 0x2399407b048>,\n",
       "  <matplotlib.axis.XTick at 0x2399407bcc8>,\n",
       "  <matplotlib.axis.XTick at 0x2399407f7c8>,\n",
       "  <matplotlib.axis.XTick at 0x239940832c8>,\n",
       "  <matplotlib.axis.XTick at 0x23994083d88>,\n",
       "  <matplotlib.axis.XTick at 0x2399407bdc8>,\n",
       "  <matplotlib.axis.XTick at 0x23994077808>,\n",
       "  <matplotlib.axis.XTick at 0x23994087b08>,\n",
       "  <matplotlib.axis.XTick at 0x2399408a5c8>,\n",
       "  <matplotlib.axis.XTick at 0x2399408d208>,\n",
       "  <matplotlib.axis.XTick at 0x2399408db48>,\n",
       "  <matplotlib.axis.XTick at 0x23994092648>,\n",
       "  <matplotlib.axis.XTick at 0x239940971c8>,\n",
       "  <matplotlib.axis.XTick at 0x23994097c08>,\n",
       "  <matplotlib.axis.XTick at 0x2399409a708>,\n",
       "  <matplotlib.axis.XTick at 0x2399409af88>,\n",
       "  <matplotlib.axis.XTick at 0x2399408a808>,\n",
       "  <matplotlib.axis.XTick at 0x2399409e508>,\n",
       "  <matplotlib.axis.XTick at 0x239940a01c8>,\n",
       "  <matplotlib.axis.XTick at 0x239940a07c8>,\n",
       "  <matplotlib.axis.XTick at 0x239940a5408>,\n",
       "  <matplotlib.axis.XTick at 0x239940a5d88>,\n",
       "  <matplotlib.axis.XTick at 0x239940a89c8>,\n",
       "  <matplotlib.axis.XTick at 0x239940ac4c8>,\n",
       "  <matplotlib.axis.XTick at 0x239940b0088>,\n",
       "  <matplotlib.axis.XTick at 0x239940a8848>,\n",
       "  <matplotlib.axis.XTick at 0x239940b0208>,\n",
       "  <matplotlib.axis.XTick at 0x239940b0c48>,\n",
       "  <matplotlib.axis.XTick at 0x239940b45c8>,\n",
       "  <matplotlib.axis.XTick at 0x239940b81c8>,\n",
       "  <matplotlib.axis.XTick at 0x239940b8bc8>,\n",
       "  <matplotlib.axis.XTick at 0x239940bc6c8>,\n",
       "  <matplotlib.axis.XTick at 0x239940c0248>,\n",
       "  <matplotlib.axis.XTick at 0x239940c0c88>,\n",
       "  <matplotlib.axis.XTick at 0x239940b8cc8>,\n",
       "  <matplotlib.axis.XTick at 0x239940b0508>,\n",
       "  <matplotlib.axis.XTick at 0x239940c4a08>,\n",
       "  <matplotlib.axis.XTick at 0x239940c84c8>,\n",
       "  <matplotlib.axis.XTick at 0x239940cb188>,\n",
       "  <matplotlib.axis.XTick at 0x239940cba48>,\n",
       "  <matplotlib.axis.XTick at 0x239940cf548>,\n",
       "  <matplotlib.axis.XTick at 0x239940d30c8>,\n",
       "  <matplotlib.axis.XTick at 0x239940d3b08>,\n",
       "  <matplotlib.axis.XTick at 0x239940d7608>,\n",
       "  <matplotlib.axis.XTick at 0x239940d7e88>,\n",
       "  <matplotlib.axis.XTick at 0x239940c8588>,\n",
       "  <matplotlib.axis.XTick at 0x239940da408>,\n",
       "  <matplotlib.axis.XTick at 0x239940dae48>,\n",
       "  <matplotlib.axis.XTick at 0x239940dc6c8>,\n",
       "  <matplotlib.axis.XTick at 0x239940e1308>,\n",
       "  <matplotlib.axis.XTick at 0x239940e1dc8>,\n",
       "  <matplotlib.axis.XTick at 0x239940e68c8>,\n",
       "  <matplotlib.axis.XTick at 0x239940e93c8>,\n",
       "  <matplotlib.axis.XTick at 0x239940e9e88>,\n",
       "  <matplotlib.axis.XTick at 0x239940e9a08>,\n",
       "  <matplotlib.axis.XTick at 0x239940dac08>,\n",
       "  <matplotlib.axis.XTick at 0x239940eeb48>,\n",
       "  <matplotlib.axis.XTick at 0x239940f14c8>,\n",
       "  <matplotlib.axis.XTick at 0x239940f50c8>,\n",
       "  <matplotlib.axis.XTick at 0x239940f5ac8>,\n",
       "  <matplotlib.axis.XTick at 0x239940f85c8>,\n",
       "  <matplotlib.axis.XTick at 0x239940fc148>,\n",
       "  <matplotlib.axis.XTick at 0x239940fcb88>,\n",
       "  <matplotlib.axis.XTick at 0x239940f5bc8>,\n",
       "  <matplotlib.axis.XTick at 0x239940eea08>,\n",
       "  <matplotlib.axis.XTick at 0x23994100908>,\n",
       "  <matplotlib.axis.XTick at 0x239941043c8>,\n",
       "  <matplotlib.axis.XTick at 0x23994104f08>,\n",
       "  <matplotlib.axis.XTick at 0x23994107948>,\n",
       "  <matplotlib.axis.XTick at 0x2399410b448>,\n",
       "  <matplotlib.axis.XTick at 0x2399410bdc8>,\n",
       "  <matplotlib.axis.XTick at 0x2399410ea08>,\n",
       "  <matplotlib.axis.XTick at 0x23994113508>,\n",
       "  <matplotlib.axis.XTick at 0x2399410e888>,\n",
       "  <matplotlib.axis.XTick at 0x23994113e08>,\n",
       "  <matplotlib.axis.XTick at 0x23994116308>,\n",
       "  <matplotlib.axis.XTick at 0x23994116c48>,\n",
       "  <matplotlib.axis.XTick at 0x239941195c8>,\n",
       "  <matplotlib.axis.XTick at 0x2399411e288>,\n",
       "  <matplotlib.axis.XTick at 0x2399411ecc8>,\n",
       "  <matplotlib.axis.XTick at 0x239941227c8>,\n",
       "  <matplotlib.axis.XTick at 0x239941262c8>,\n",
       "  <matplotlib.axis.XTick at 0x23994126d88>,\n",
       "  <matplotlib.axis.XTick at 0x23994126908>,\n",
       "  <matplotlib.axis.XTick at 0x23994116a88>,\n",
       "  <matplotlib.axis.XTick at 0x2399412aa48>,\n",
       "  <matplotlib.axis.XTick at 0x2399412d3c8>,\n",
       "  <matplotlib.axis.XTick at 0x2399412de08>,\n",
       "  <matplotlib.axis.XTick at 0x239941309c8>,\n",
       "  <matplotlib.axis.XTick at 0x239941364c8>,\n",
       "  <matplotlib.axis.XTick at 0x23994139088>,\n",
       "  <matplotlib.axis.XTick at 0x23994139a88>,\n",
       "  <matplotlib.axis.XTick at 0x23994130a48>,\n",
       "  <matplotlib.axis.XTick at 0x23994126148>,\n",
       "  <matplotlib.axis.XTick at 0x239940c0d08>,\n",
       "  <matplotlib.axis.XTick at 0x2399413e088>,\n",
       "  <matplotlib.axis.XTick at 0x23994140188>,\n",
       "  <matplotlib.axis.XTick at 0x23994140ac8>,\n",
       "  <matplotlib.axis.XTick at 0x23994142448>,\n",
       "  <matplotlib.axis.XTick at 0x23994142c08>,\n",
       "  <matplotlib.axis.XTick at 0x23994147908>,\n",
       "  <matplotlib.axis.XTick at 0x2399414b408>,\n",
       "  <matplotlib.axis.XTick at 0x23991e848c8>,\n",
       "  <matplotlib.axis.XTick at 0x2399414bf48>,\n",
       "  <matplotlib.axis.XTick at 0x23994142e48>,\n",
       "  <matplotlib.axis.XTick at 0x2399413e3c8>,\n",
       "  <matplotlib.axis.XTick at 0x2399203c4c8>,\n",
       "  <matplotlib.axis.XTick at 0x23991e7e108>,\n",
       "  <matplotlib.axis.XTick at 0x23991e70c48>,\n",
       "  <matplotlib.axis.XTick at 0x23991e78d48>,\n",
       "  <matplotlib.axis.XTick at 0x23991e78a48>,\n",
       "  <matplotlib.axis.XTick at 0x23991e7ea08>,\n",
       "  <matplotlib.axis.XTick at 0x2398f6c0848>,\n",
       "  <matplotlib.axis.XTick at 0x2398f6c6148>,\n",
       "  <matplotlib.axis.XTick at 0x2398d128d88>,\n",
       "  <matplotlib.axis.XTick at 0x2399414f648>,\n",
       "  <matplotlib.axis.XTick at 0x2398f6c5248>,\n",
       "  <matplotlib.axis.XTick at 0x2398f6c5d08>,\n",
       "  <matplotlib.axis.XTick at 0x23991e73888>,\n",
       "  <matplotlib.axis.XTick at 0x2398f6c50c8>,\n",
       "  <matplotlib.axis.XTick at 0x2398f6b4388>,\n",
       "  <matplotlib.axis.XTick at 0x23991e809c8>,\n",
       "  <matplotlib.axis.XTick at 0x239941513c8>,\n",
       "  <matplotlib.axis.XTick at 0x23994154088>,\n",
       "  <matplotlib.axis.XTick at 0x23994154ac8>,\n",
       "  <matplotlib.axis.XTick at 0x23994158648>,\n",
       "  <matplotlib.axis.XTick at 0x2399415b248>,\n",
       "  <matplotlib.axis.XTick at 0x2399415bd08>,\n",
       "  <matplotlib.axis.XTick at 0x23994160888>,\n",
       "  <matplotlib.axis.XTick at 0x2399415b908>,\n",
       "  <matplotlib.axis.XTick at 0x2398f6c52c8>,\n",
       "  <matplotlib.axis.XTick at 0x23994164788>,\n",
       "  <matplotlib.axis.XTick at 0x23994166188>,\n",
       "  <matplotlib.axis.XTick at 0x23994166d48>,\n",
       "  <matplotlib.axis.XTick at 0x2399416b888>,\n",
       "  <matplotlib.axis.XTick at 0x2399416e408>,\n",
       "  <matplotlib.axis.XTick at 0x239941710c8>,\n",
       "  <matplotlib.axis.XTick at 0x23994171ac8>,\n",
       "  <matplotlib.axis.XTick at 0x23994166dc8>,\n",
       "  <matplotlib.axis.XTick at 0x23994164a88>,\n",
       "  <matplotlib.axis.XTick at 0x23994175b08>,\n",
       "  <matplotlib.axis.XTick at 0x23994178508>,\n",
       "  <matplotlib.axis.XTick at 0x2399417c248>,\n",
       "  <matplotlib.axis.XTick at 0x2399417cb88>,\n",
       "  <matplotlib.axis.XTick at 0x2398edb0708>,\n",
       "  <matplotlib.axis.XTick at 0x2398edb3048>,\n",
       "  <matplotlib.axis.XTick at 0x2398edb3dc8>,\n",
       "  <matplotlib.axis.XTick at 0x2398edb7948>,\n",
       "  <matplotlib.axis.XTick at 0x2398edb3cc8>,\n",
       "  <matplotlib.axis.XTick at 0x2399416b408>,\n",
       "  <matplotlib.axis.XTick at 0x2398edba848>,\n",
       "  <matplotlib.axis.XTick at 0x2398edbd248>,\n",
       "  <matplotlib.axis.XTick at 0x2398edbde08>,\n",
       "  <matplotlib.axis.XTick at 0x2398edc1948>,\n",
       "  <matplotlib.axis.XTick at 0x2398edc64c8>,\n",
       "  <matplotlib.axis.XTick at 0x2398edca0c8>,\n",
       "  <matplotlib.axis.XTick at 0x2398edcab88>,\n",
       "  <matplotlib.axis.XTick at 0x2398edbde88>,\n",
       "  <matplotlib.axis.XTick at 0x2398edbab48>,\n",
       "  <matplotlib.axis.XTick at 0x2398edcdbc8>,\n",
       "  <matplotlib.axis.XTick at 0x2398edd15c8>,\n",
       "  <matplotlib.axis.XTick at 0x2398edd4288>,\n",
       "  <matplotlib.axis.XTick at 0x2398edd4c48>,\n",
       "  <matplotlib.axis.XTick at 0x2398edd87c8>,\n",
       "  <matplotlib.axis.XTick at 0x2398eddb348>,\n",
       "  <matplotlib.axis.XTick at 0x2398eddbe88>,\n",
       "  <matplotlib.axis.XTick at 0x2398eddea08>,\n",
       "  <matplotlib.axis.XTick at 0x2398eddba88>,\n",
       "  <matplotlib.axis.XTick at 0x2398edd1708>,\n",
       "  <matplotlib.axis.XTick at 0x2398ede2908>,\n",
       "  <matplotlib.axis.XTick at 0x2398ede6308>,\n",
       "  <matplotlib.axis.XTick at 0x2398ede6dc8>,\n",
       "  <matplotlib.axis.XTick at 0x2398ede9a08>,\n",
       "  <matplotlib.axis.XTick at 0x2398eded588>,\n",
       "  <matplotlib.axis.XTick at 0x2398edf0188>,\n",
       "  <matplotlib.axis.XTick at 0x2398edf0c48>,\n",
       "  <matplotlib.axis.XTick at 0x2398ede6f48>,\n",
       "  <matplotlib.axis.XTick at 0x2398edd1408>,\n",
       "  <matplotlib.axis.XTick at 0x2398edf4c88>,\n",
       "  <matplotlib.axis.XTick at 0x2398edf7688>,\n",
       "  <matplotlib.axis.XTick at 0x2398edfa088>,\n",
       "  <matplotlib.axis.XTick at 0x2398edfad08>,\n",
       "  <matplotlib.axis.XTick at 0x2398ee00888>,\n",
       "  <matplotlib.axis.XTick at 0x2398ee03408>,\n",
       "  <matplotlib.axis.XTick at 0x2398ee070c8>,\n",
       "  <matplotlib.axis.XTick at 0x2398ee07ac8>,\n",
       "  <matplotlib.axis.XTick at 0x2398ee03e48>,\n",
       "  <matplotlib.axis.XTick at 0x2398edf74c8>,\n",
       "  <matplotlib.axis.XTick at 0x2398ee0a9c8>,\n",
       "  <matplotlib.axis.XTick at 0x2398ee0d3c8>,\n",
       "  <matplotlib.axis.XTick at 0x2398ee11088>,\n",
       "  <matplotlib.axis.XTick at 0x2398ee11ac8>,\n",
       "  <matplotlib.axis.XTick at 0x2398ee15648>,\n",
       "  <matplotlib.axis.XTick at 0x2398ee18248>,\n",
       "  <matplotlib.axis.XTick at 0x2398ee18d08>,\n",
       "  <matplotlib.axis.XTick at 0x2398ee110c8>,\n",
       "  <matplotlib.axis.XTick at 0x2398edf7548>,\n",
       "  <matplotlib.axis.XTick at 0x2398ee1ce48>,\n",
       "  <matplotlib.axis.XTick at 0x2398ee1f748>,\n",
       "  <matplotlib.axis.XTick at 0x2398ee23148>,\n",
       "  <matplotlib.axis.XTick at 0x2398ee23dc8>,\n",
       "  <matplotlib.axis.XTick at 0x2398ee26948>,\n",
       "  <matplotlib.axis.XTick at 0x2398ee2a4c8>,\n",
       "  <matplotlib.axis.XTick at 0x2398ee2e0c8>,\n",
       "  <matplotlib.axis.XTick at 0x2398ee2eb88>,\n",
       "  <matplotlib.axis.XTick at 0x2398ee2a5c8>,\n",
       "  <matplotlib.axis.XTick at 0x2398ee1f588>,\n",
       "  <matplotlib.axis.XTick at 0x2398ee32a88>,\n",
       "  <matplotlib.axis.XTick at 0x2398ee36488>,\n",
       "  <matplotlib.axis.XTick at 0x2398ee39108>,\n",
       "  <matplotlib.axis.XTick at 0x2398ee39b88>,\n",
       "  <matplotlib.axis.XTick at 0x2398ee3d708>,\n",
       "  <matplotlib.axis.XTick at 0x2398ee40048>,\n",
       "  <matplotlib.axis.XTick at 0x2398ee40dc8>,\n",
       "  <matplotlib.axis.XTick at 0x2398ee39188>,\n",
       "  <matplotlib.axis.XTick at 0x2398ee32b48>,\n",
       "  <matplotlib.axis.XTick at 0x23991e80508>,\n",
       "  <matplotlib.axis.XTick at 0x2398ee43c48>,\n",
       "  <matplotlib.axis.XTick at 0x2398ee47648>,\n",
       "  <matplotlib.axis.XTick at 0x2398ee492c8>,\n",
       "  <matplotlib.axis.XTick at 0x2398ee49a08>,\n",
       "  <matplotlib.axis.XTick at 0x2398ee4d408>,\n",
       "  <matplotlib.axis.XTick at 0x2398ee51148>,\n",
       "  <matplotlib.axis.XTick at 0x2398ee51ac8>,\n",
       "  <matplotlib.axis.XTick at 0x2398ee49108>,\n",
       "  <matplotlib.axis.XTick at 0x2398ee43d88>,\n",
       "  <matplotlib.axis.XTick at 0x2398ee56a48>,\n",
       "  ...],\n",
       " <a list of 1826 Text xticklabel objects>)"
      ]
     },
     "execution_count": 134,
     "metadata": {},
     "output_type": "execute_result"
    },
    {
     "name": "stdout",
     "output_type": "stream",
     "text": [
      "Error in callback <function flush_figures at 0x0000023980916D38> (for post_execute):\n"
     ]
    },
    {
     "ename": "KeyboardInterrupt",
     "evalue": "",
     "output_type": "error",
     "traceback": [
      "\u001b[1;31m---------------------------------------------------------------------------\u001b[0m",
      "\u001b[1;31mKeyboardInterrupt\u001b[0m                         Traceback (most recent call last)",
      "\u001b[1;32m~\\Anaconda3\\lib\\site-packages\\ipykernel\\pylab\\backend_inline.py\u001b[0m in \u001b[0;36mflush_figures\u001b[1;34m()\u001b[0m\n\u001b[0;32m    115\u001b[0m         \u001b[1;31m# ignore the tracking, just draw and close all figures\u001b[0m\u001b[1;33m\u001b[0m\u001b[1;33m\u001b[0m\u001b[1;33m\u001b[0m\u001b[0m\n\u001b[0;32m    116\u001b[0m         \u001b[1;32mtry\u001b[0m\u001b[1;33m:\u001b[0m\u001b[1;33m\u001b[0m\u001b[1;33m\u001b[0m\u001b[0m\n\u001b[1;32m--> 117\u001b[1;33m             \u001b[1;32mreturn\u001b[0m \u001b[0mshow\u001b[0m\u001b[1;33m(\u001b[0m\u001b[1;32mTrue\u001b[0m\u001b[1;33m)\u001b[0m\u001b[1;33m\u001b[0m\u001b[1;33m\u001b[0m\u001b[0m\n\u001b[0m\u001b[0;32m    118\u001b[0m         \u001b[1;32mexcept\u001b[0m \u001b[0mException\u001b[0m \u001b[1;32mas\u001b[0m \u001b[0me\u001b[0m\u001b[1;33m:\u001b[0m\u001b[1;33m\u001b[0m\u001b[1;33m\u001b[0m\u001b[0m\n\u001b[0;32m    119\u001b[0m             \u001b[1;31m# safely show traceback if in IPython, else raise\u001b[0m\u001b[1;33m\u001b[0m\u001b[1;33m\u001b[0m\u001b[1;33m\u001b[0m\u001b[0m\n",
      "\u001b[1;32m~\\Anaconda3\\lib\\site-packages\\ipykernel\\pylab\\backend_inline.py\u001b[0m in \u001b[0;36mshow\u001b[1;34m(close, block)\u001b[0m\n\u001b[0;32m     37\u001b[0m             display(\n\u001b[0;32m     38\u001b[0m                 \u001b[0mfigure_manager\u001b[0m\u001b[1;33m.\u001b[0m\u001b[0mcanvas\u001b[0m\u001b[1;33m.\u001b[0m\u001b[0mfigure\u001b[0m\u001b[1;33m,\u001b[0m\u001b[1;33m\u001b[0m\u001b[1;33m\u001b[0m\u001b[0m\n\u001b[1;32m---> 39\u001b[1;33m                 \u001b[0mmetadata\u001b[0m\u001b[1;33m=\u001b[0m\u001b[0m_fetch_figure_metadata\u001b[0m\u001b[1;33m(\u001b[0m\u001b[0mfigure_manager\u001b[0m\u001b[1;33m.\u001b[0m\u001b[0mcanvas\u001b[0m\u001b[1;33m.\u001b[0m\u001b[0mfigure\u001b[0m\u001b[1;33m)\u001b[0m\u001b[1;33m\u001b[0m\u001b[1;33m\u001b[0m\u001b[0m\n\u001b[0m\u001b[0;32m     40\u001b[0m             )\n\u001b[0;32m     41\u001b[0m     \u001b[1;32mfinally\u001b[0m\u001b[1;33m:\u001b[0m\u001b[1;33m\u001b[0m\u001b[1;33m\u001b[0m\u001b[0m\n",
      "\u001b[1;32m~\\Anaconda3\\lib\\site-packages\\IPython\\core\\display.py\u001b[0m in \u001b[0;36mdisplay\u001b[1;34m(include, exclude, metadata, transient, display_id, *objs, **kwargs)\u001b[0m\n\u001b[0;32m    304\u001b[0m             \u001b[0mpublish_display_data\u001b[0m\u001b[1;33m(\u001b[0m\u001b[0mdata\u001b[0m\u001b[1;33m=\u001b[0m\u001b[0mobj\u001b[0m\u001b[1;33m,\u001b[0m \u001b[0mmetadata\u001b[0m\u001b[1;33m=\u001b[0m\u001b[0mmetadata\u001b[0m\u001b[1;33m,\u001b[0m \u001b[1;33m**\u001b[0m\u001b[0mkwargs\u001b[0m\u001b[1;33m)\u001b[0m\u001b[1;33m\u001b[0m\u001b[1;33m\u001b[0m\u001b[0m\n\u001b[0;32m    305\u001b[0m         \u001b[1;32melse\u001b[0m\u001b[1;33m:\u001b[0m\u001b[1;33m\u001b[0m\u001b[1;33m\u001b[0m\u001b[0m\n\u001b[1;32m--> 306\u001b[1;33m             \u001b[0mformat_dict\u001b[0m\u001b[1;33m,\u001b[0m \u001b[0mmd_dict\u001b[0m \u001b[1;33m=\u001b[0m \u001b[0mformat\u001b[0m\u001b[1;33m(\u001b[0m\u001b[0mobj\u001b[0m\u001b[1;33m,\u001b[0m \u001b[0minclude\u001b[0m\u001b[1;33m=\u001b[0m\u001b[0minclude\u001b[0m\u001b[1;33m,\u001b[0m \u001b[0mexclude\u001b[0m\u001b[1;33m=\u001b[0m\u001b[0mexclude\u001b[0m\u001b[1;33m)\u001b[0m\u001b[1;33m\u001b[0m\u001b[1;33m\u001b[0m\u001b[0m\n\u001b[0m\u001b[0;32m    307\u001b[0m             \u001b[1;32mif\u001b[0m \u001b[1;32mnot\u001b[0m \u001b[0mformat_dict\u001b[0m\u001b[1;33m:\u001b[0m\u001b[1;33m\u001b[0m\u001b[1;33m\u001b[0m\u001b[0m\n\u001b[0;32m    308\u001b[0m                 \u001b[1;31m# nothing to display (e.g. _ipython_display_ took over)\u001b[0m\u001b[1;33m\u001b[0m\u001b[1;33m\u001b[0m\u001b[1;33m\u001b[0m\u001b[0m\n",
      "\u001b[1;32m~\\Anaconda3\\lib\\site-packages\\IPython\\core\\formatters.py\u001b[0m in \u001b[0;36mformat\u001b[1;34m(self, obj, include, exclude)\u001b[0m\n\u001b[0;32m    178\u001b[0m             \u001b[0mmd\u001b[0m \u001b[1;33m=\u001b[0m \u001b[1;32mNone\u001b[0m\u001b[1;33m\u001b[0m\u001b[1;33m\u001b[0m\u001b[0m\n\u001b[0;32m    179\u001b[0m             \u001b[1;32mtry\u001b[0m\u001b[1;33m:\u001b[0m\u001b[1;33m\u001b[0m\u001b[1;33m\u001b[0m\u001b[0m\n\u001b[1;32m--> 180\u001b[1;33m                 \u001b[0mdata\u001b[0m \u001b[1;33m=\u001b[0m \u001b[0mformatter\u001b[0m\u001b[1;33m(\u001b[0m\u001b[0mobj\u001b[0m\u001b[1;33m)\u001b[0m\u001b[1;33m\u001b[0m\u001b[1;33m\u001b[0m\u001b[0m\n\u001b[0m\u001b[0;32m    181\u001b[0m             \u001b[1;32mexcept\u001b[0m\u001b[1;33m:\u001b[0m\u001b[1;33m\u001b[0m\u001b[1;33m\u001b[0m\u001b[0m\n\u001b[0;32m    182\u001b[0m                 \u001b[1;31m# FIXME: log the exception\u001b[0m\u001b[1;33m\u001b[0m\u001b[1;33m\u001b[0m\u001b[1;33m\u001b[0m\u001b[0m\n",
      "\u001b[1;32m<C:\\Users\\Nastasia\\Anaconda3\\lib\\site-packages\\decorator.py:decorator-gen-9>\u001b[0m in \u001b[0;36m__call__\u001b[1;34m(self, obj)\u001b[0m\n",
      "\u001b[1;32m~\\Anaconda3\\lib\\site-packages\\IPython\\core\\formatters.py\u001b[0m in \u001b[0;36mcatch_format_error\u001b[1;34m(method, self, *args, **kwargs)\u001b[0m\n\u001b[0;32m    222\u001b[0m     \u001b[1;34m\"\"\"show traceback on failed format call\"\"\"\u001b[0m\u001b[1;33m\u001b[0m\u001b[1;33m\u001b[0m\u001b[0m\n\u001b[0;32m    223\u001b[0m     \u001b[1;32mtry\u001b[0m\u001b[1;33m:\u001b[0m\u001b[1;33m\u001b[0m\u001b[1;33m\u001b[0m\u001b[0m\n\u001b[1;32m--> 224\u001b[1;33m         \u001b[0mr\u001b[0m \u001b[1;33m=\u001b[0m \u001b[0mmethod\u001b[0m\u001b[1;33m(\u001b[0m\u001b[0mself\u001b[0m\u001b[1;33m,\u001b[0m \u001b[1;33m*\u001b[0m\u001b[0margs\u001b[0m\u001b[1;33m,\u001b[0m \u001b[1;33m**\u001b[0m\u001b[0mkwargs\u001b[0m\u001b[1;33m)\u001b[0m\u001b[1;33m\u001b[0m\u001b[1;33m\u001b[0m\u001b[0m\n\u001b[0m\u001b[0;32m    225\u001b[0m     \u001b[1;32mexcept\u001b[0m \u001b[0mNotImplementedError\u001b[0m\u001b[1;33m:\u001b[0m\u001b[1;33m\u001b[0m\u001b[1;33m\u001b[0m\u001b[0m\n\u001b[0;32m    226\u001b[0m         \u001b[1;31m# don't warn on NotImplementedErrors\u001b[0m\u001b[1;33m\u001b[0m\u001b[1;33m\u001b[0m\u001b[1;33m\u001b[0m\u001b[0m\n",
      "\u001b[1;32m~\\Anaconda3\\lib\\site-packages\\IPython\\core\\formatters.py\u001b[0m in \u001b[0;36m__call__\u001b[1;34m(self, obj)\u001b[0m\n\u001b[0;32m    339\u001b[0m                 \u001b[1;32mpass\u001b[0m\u001b[1;33m\u001b[0m\u001b[1;33m\u001b[0m\u001b[0m\n\u001b[0;32m    340\u001b[0m             \u001b[1;32melse\u001b[0m\u001b[1;33m:\u001b[0m\u001b[1;33m\u001b[0m\u001b[1;33m\u001b[0m\u001b[0m\n\u001b[1;32m--> 341\u001b[1;33m                 \u001b[1;32mreturn\u001b[0m \u001b[0mprinter\u001b[0m\u001b[1;33m(\u001b[0m\u001b[0mobj\u001b[0m\u001b[1;33m)\u001b[0m\u001b[1;33m\u001b[0m\u001b[1;33m\u001b[0m\u001b[0m\n\u001b[0m\u001b[0;32m    342\u001b[0m             \u001b[1;31m# Finally look for special method names\u001b[0m\u001b[1;33m\u001b[0m\u001b[1;33m\u001b[0m\u001b[1;33m\u001b[0m\u001b[0m\n\u001b[0;32m    343\u001b[0m             \u001b[0mmethod\u001b[0m \u001b[1;33m=\u001b[0m \u001b[0mget_real_method\u001b[0m\u001b[1;33m(\u001b[0m\u001b[0mobj\u001b[0m\u001b[1;33m,\u001b[0m \u001b[0mself\u001b[0m\u001b[1;33m.\u001b[0m\u001b[0mprint_method\u001b[0m\u001b[1;33m)\u001b[0m\u001b[1;33m\u001b[0m\u001b[1;33m\u001b[0m\u001b[0m\n",
      "\u001b[1;32m~\\Anaconda3\\lib\\site-packages\\IPython\\core\\pylabtools.py\u001b[0m in \u001b[0;36m<lambda>\u001b[1;34m(fig)\u001b[0m\n\u001b[0;32m    242\u001b[0m \u001b[1;33m\u001b[0m\u001b[0m\n\u001b[0;32m    243\u001b[0m     \u001b[1;32mif\u001b[0m \u001b[1;34m'png'\u001b[0m \u001b[1;32min\u001b[0m \u001b[0mformats\u001b[0m\u001b[1;33m:\u001b[0m\u001b[1;33m\u001b[0m\u001b[1;33m\u001b[0m\u001b[0m\n\u001b[1;32m--> 244\u001b[1;33m         \u001b[0mpng_formatter\u001b[0m\u001b[1;33m.\u001b[0m\u001b[0mfor_type\u001b[0m\u001b[1;33m(\u001b[0m\u001b[0mFigure\u001b[0m\u001b[1;33m,\u001b[0m \u001b[1;32mlambda\u001b[0m \u001b[0mfig\u001b[0m\u001b[1;33m:\u001b[0m \u001b[0mprint_figure\u001b[0m\u001b[1;33m(\u001b[0m\u001b[0mfig\u001b[0m\u001b[1;33m,\u001b[0m \u001b[1;34m'png'\u001b[0m\u001b[1;33m,\u001b[0m \u001b[1;33m**\u001b[0m\u001b[0mkwargs\u001b[0m\u001b[1;33m)\u001b[0m\u001b[1;33m)\u001b[0m\u001b[1;33m\u001b[0m\u001b[1;33m\u001b[0m\u001b[0m\n\u001b[0m\u001b[0;32m    245\u001b[0m     \u001b[1;32mif\u001b[0m \u001b[1;34m'retina'\u001b[0m \u001b[1;32min\u001b[0m \u001b[0mformats\u001b[0m \u001b[1;32mor\u001b[0m \u001b[1;34m'png2x'\u001b[0m \u001b[1;32min\u001b[0m \u001b[0mformats\u001b[0m\u001b[1;33m:\u001b[0m\u001b[1;33m\u001b[0m\u001b[1;33m\u001b[0m\u001b[0m\n\u001b[0;32m    246\u001b[0m         \u001b[0mpng_formatter\u001b[0m\u001b[1;33m.\u001b[0m\u001b[0mfor_type\u001b[0m\u001b[1;33m(\u001b[0m\u001b[0mFigure\u001b[0m\u001b[1;33m,\u001b[0m \u001b[1;32mlambda\u001b[0m \u001b[0mfig\u001b[0m\u001b[1;33m:\u001b[0m \u001b[0mretina_figure\u001b[0m\u001b[1;33m(\u001b[0m\u001b[0mfig\u001b[0m\u001b[1;33m,\u001b[0m \u001b[1;33m**\u001b[0m\u001b[0mkwargs\u001b[0m\u001b[1;33m)\u001b[0m\u001b[1;33m)\u001b[0m\u001b[1;33m\u001b[0m\u001b[1;33m\u001b[0m\u001b[0m\n",
      "\u001b[1;32m~\\Anaconda3\\lib\\site-packages\\IPython\\core\\pylabtools.py\u001b[0m in \u001b[0;36mprint_figure\u001b[1;34m(fig, fmt, bbox_inches, **kwargs)\u001b[0m\n\u001b[0;32m    126\u001b[0m \u001b[1;33m\u001b[0m\u001b[0m\n\u001b[0;32m    127\u001b[0m     \u001b[0mbytes_io\u001b[0m \u001b[1;33m=\u001b[0m \u001b[0mBytesIO\u001b[0m\u001b[1;33m(\u001b[0m\u001b[1;33m)\u001b[0m\u001b[1;33m\u001b[0m\u001b[1;33m\u001b[0m\u001b[0m\n\u001b[1;32m--> 128\u001b[1;33m     \u001b[0mfig\u001b[0m\u001b[1;33m.\u001b[0m\u001b[0mcanvas\u001b[0m\u001b[1;33m.\u001b[0m\u001b[0mprint_figure\u001b[0m\u001b[1;33m(\u001b[0m\u001b[0mbytes_io\u001b[0m\u001b[1;33m,\u001b[0m \u001b[1;33m**\u001b[0m\u001b[0mkw\u001b[0m\u001b[1;33m)\u001b[0m\u001b[1;33m\u001b[0m\u001b[1;33m\u001b[0m\u001b[0m\n\u001b[0m\u001b[0;32m    129\u001b[0m     \u001b[0mdata\u001b[0m \u001b[1;33m=\u001b[0m \u001b[0mbytes_io\u001b[0m\u001b[1;33m.\u001b[0m\u001b[0mgetvalue\u001b[0m\u001b[1;33m(\u001b[0m\u001b[1;33m)\u001b[0m\u001b[1;33m\u001b[0m\u001b[1;33m\u001b[0m\u001b[0m\n\u001b[0;32m    130\u001b[0m     \u001b[1;32mif\u001b[0m \u001b[0mfmt\u001b[0m \u001b[1;33m==\u001b[0m \u001b[1;34m'svg'\u001b[0m\u001b[1;33m:\u001b[0m\u001b[1;33m\u001b[0m\u001b[1;33m\u001b[0m\u001b[0m\n",
      "\u001b[1;32m~\\Anaconda3\\lib\\site-packages\\matplotlib\\backend_bases.py\u001b[0m in \u001b[0;36mprint_figure\u001b[1;34m(self, filename, dpi, facecolor, edgecolor, orientation, format, bbox_inches, **kwargs)\u001b[0m\n\u001b[0;32m   2080\u001b[0m                     \u001b[0morientation\u001b[0m\u001b[1;33m=\u001b[0m\u001b[0morientation\u001b[0m\u001b[1;33m,\u001b[0m\u001b[1;33m\u001b[0m\u001b[1;33m\u001b[0m\u001b[0m\n\u001b[0;32m   2081\u001b[0m                     \u001b[0mbbox_inches_restore\u001b[0m\u001b[1;33m=\u001b[0m\u001b[0m_bbox_inches_restore\u001b[0m\u001b[1;33m,\u001b[0m\u001b[1;33m\u001b[0m\u001b[1;33m\u001b[0m\u001b[0m\n\u001b[1;32m-> 2082\u001b[1;33m                     **kwargs)\n\u001b[0m\u001b[0;32m   2083\u001b[0m             \u001b[1;32mfinally\u001b[0m\u001b[1;33m:\u001b[0m\u001b[1;33m\u001b[0m\u001b[1;33m\u001b[0m\u001b[0m\n\u001b[0;32m   2084\u001b[0m                 \u001b[1;32mif\u001b[0m \u001b[0mbbox_inches\u001b[0m \u001b[1;32mand\u001b[0m \u001b[0mrestore_bbox\u001b[0m\u001b[1;33m:\u001b[0m\u001b[1;33m\u001b[0m\u001b[1;33m\u001b[0m\u001b[0m\n",
      "\u001b[1;32m~\\Anaconda3\\lib\\site-packages\\matplotlib\\backends\\backend_agg.py\u001b[0m in \u001b[0;36mprint_png\u001b[1;34m(self, filename_or_obj, metadata, pil_kwargs, *args, **kwargs)\u001b[0m\n\u001b[0;32m    525\u001b[0m \u001b[1;33m\u001b[0m\u001b[0m\n\u001b[0;32m    526\u001b[0m         \u001b[1;32melse\u001b[0m\u001b[1;33m:\u001b[0m\u001b[1;33m\u001b[0m\u001b[1;33m\u001b[0m\u001b[0m\n\u001b[1;32m--> 527\u001b[1;33m             \u001b[0mFigureCanvasAgg\u001b[0m\u001b[1;33m.\u001b[0m\u001b[0mdraw\u001b[0m\u001b[1;33m(\u001b[0m\u001b[0mself\u001b[0m\u001b[1;33m)\u001b[0m\u001b[1;33m\u001b[0m\u001b[1;33m\u001b[0m\u001b[0m\n\u001b[0m\u001b[0;32m    528\u001b[0m             \u001b[0mrenderer\u001b[0m \u001b[1;33m=\u001b[0m \u001b[0mself\u001b[0m\u001b[1;33m.\u001b[0m\u001b[0mget_renderer\u001b[0m\u001b[1;33m(\u001b[0m\u001b[1;33m)\u001b[0m\u001b[1;33m\u001b[0m\u001b[1;33m\u001b[0m\u001b[0m\n\u001b[0;32m    529\u001b[0m             \u001b[1;32mwith\u001b[0m \u001b[0mcbook\u001b[0m\u001b[1;33m.\u001b[0m\u001b[0m_setattr_cm\u001b[0m\u001b[1;33m(\u001b[0m\u001b[0mrenderer\u001b[0m\u001b[1;33m,\u001b[0m \u001b[0mdpi\u001b[0m\u001b[1;33m=\u001b[0m\u001b[0mself\u001b[0m\u001b[1;33m.\u001b[0m\u001b[0mfigure\u001b[0m\u001b[1;33m.\u001b[0m\u001b[0mdpi\u001b[0m\u001b[1;33m)\u001b[0m\u001b[1;33m,\u001b[0m\u001b[0;31m \u001b[0m\u001b[0;31m\\\u001b[0m\u001b[1;33m\u001b[0m\u001b[1;33m\u001b[0m\u001b[0m\n",
      "\u001b[1;32m~\\Anaconda3\\lib\\site-packages\\matplotlib\\backends\\backend_agg.py\u001b[0m in \u001b[0;36mdraw\u001b[1;34m(self)\u001b[0m\n\u001b[0;32m    386\u001b[0m         \u001b[0mself\u001b[0m\u001b[1;33m.\u001b[0m\u001b[0mrenderer\u001b[0m \u001b[1;33m=\u001b[0m \u001b[0mself\u001b[0m\u001b[1;33m.\u001b[0m\u001b[0mget_renderer\u001b[0m\u001b[1;33m(\u001b[0m\u001b[0mcleared\u001b[0m\u001b[1;33m=\u001b[0m\u001b[1;32mTrue\u001b[0m\u001b[1;33m)\u001b[0m\u001b[1;33m\u001b[0m\u001b[1;33m\u001b[0m\u001b[0m\n\u001b[0;32m    387\u001b[0m         \u001b[1;32mwith\u001b[0m \u001b[0mRendererAgg\u001b[0m\u001b[1;33m.\u001b[0m\u001b[0mlock\u001b[0m\u001b[1;33m:\u001b[0m\u001b[1;33m\u001b[0m\u001b[1;33m\u001b[0m\u001b[0m\n\u001b[1;32m--> 388\u001b[1;33m             \u001b[0mself\u001b[0m\u001b[1;33m.\u001b[0m\u001b[0mfigure\u001b[0m\u001b[1;33m.\u001b[0m\u001b[0mdraw\u001b[0m\u001b[1;33m(\u001b[0m\u001b[0mself\u001b[0m\u001b[1;33m.\u001b[0m\u001b[0mrenderer\u001b[0m\u001b[1;33m)\u001b[0m\u001b[1;33m\u001b[0m\u001b[1;33m\u001b[0m\u001b[0m\n\u001b[0m\u001b[0;32m    389\u001b[0m             \u001b[1;31m# A GUI class may be need to update a window using this draw, so\u001b[0m\u001b[1;33m\u001b[0m\u001b[1;33m\u001b[0m\u001b[1;33m\u001b[0m\u001b[0m\n\u001b[0;32m    390\u001b[0m             \u001b[1;31m# don't forget to call the superclass.\u001b[0m\u001b[1;33m\u001b[0m\u001b[1;33m\u001b[0m\u001b[1;33m\u001b[0m\u001b[0m\n",
      "\u001b[1;32m~\\Anaconda3\\lib\\site-packages\\matplotlib\\artist.py\u001b[0m in \u001b[0;36mdraw_wrapper\u001b[1;34m(artist, renderer, *args, **kwargs)\u001b[0m\n\u001b[0;32m     36\u001b[0m                 \u001b[0mrenderer\u001b[0m\u001b[1;33m.\u001b[0m\u001b[0mstart_filter\u001b[0m\u001b[1;33m(\u001b[0m\u001b[1;33m)\u001b[0m\u001b[1;33m\u001b[0m\u001b[1;33m\u001b[0m\u001b[0m\n\u001b[0;32m     37\u001b[0m \u001b[1;33m\u001b[0m\u001b[0m\n\u001b[1;32m---> 38\u001b[1;33m             \u001b[1;32mreturn\u001b[0m \u001b[0mdraw\u001b[0m\u001b[1;33m(\u001b[0m\u001b[0martist\u001b[0m\u001b[1;33m,\u001b[0m \u001b[0mrenderer\u001b[0m\u001b[1;33m,\u001b[0m \u001b[1;33m*\u001b[0m\u001b[0margs\u001b[0m\u001b[1;33m,\u001b[0m \u001b[1;33m**\u001b[0m\u001b[0mkwargs\u001b[0m\u001b[1;33m)\u001b[0m\u001b[1;33m\u001b[0m\u001b[1;33m\u001b[0m\u001b[0m\n\u001b[0m\u001b[0;32m     39\u001b[0m         \u001b[1;32mfinally\u001b[0m\u001b[1;33m:\u001b[0m\u001b[1;33m\u001b[0m\u001b[1;33m\u001b[0m\u001b[0m\n\u001b[0;32m     40\u001b[0m             \u001b[1;32mif\u001b[0m \u001b[0martist\u001b[0m\u001b[1;33m.\u001b[0m\u001b[0mget_agg_filter\u001b[0m\u001b[1;33m(\u001b[0m\u001b[1;33m)\u001b[0m \u001b[1;32mis\u001b[0m \u001b[1;32mnot\u001b[0m \u001b[1;32mNone\u001b[0m\u001b[1;33m:\u001b[0m\u001b[1;33m\u001b[0m\u001b[1;33m\u001b[0m\u001b[0m\n",
      "\u001b[1;32m~\\Anaconda3\\lib\\site-packages\\matplotlib\\figure.py\u001b[0m in \u001b[0;36mdraw\u001b[1;34m(self, renderer)\u001b[0m\n\u001b[0;32m   1707\u001b[0m             \u001b[0mself\u001b[0m\u001b[1;33m.\u001b[0m\u001b[0mpatch\u001b[0m\u001b[1;33m.\u001b[0m\u001b[0mdraw\u001b[0m\u001b[1;33m(\u001b[0m\u001b[0mrenderer\u001b[0m\u001b[1;33m)\u001b[0m\u001b[1;33m\u001b[0m\u001b[1;33m\u001b[0m\u001b[0m\n\u001b[0;32m   1708\u001b[0m             mimage._draw_list_compositing_images(\n\u001b[1;32m-> 1709\u001b[1;33m                 renderer, self, artists, self.suppressComposite)\n\u001b[0m\u001b[0;32m   1710\u001b[0m \u001b[1;33m\u001b[0m\u001b[0m\n\u001b[0;32m   1711\u001b[0m             \u001b[0mrenderer\u001b[0m\u001b[1;33m.\u001b[0m\u001b[0mclose_group\u001b[0m\u001b[1;33m(\u001b[0m\u001b[1;34m'figure'\u001b[0m\u001b[1;33m)\u001b[0m\u001b[1;33m\u001b[0m\u001b[1;33m\u001b[0m\u001b[0m\n",
      "\u001b[1;32m~\\Anaconda3\\lib\\site-packages\\matplotlib\\image.py\u001b[0m in \u001b[0;36m_draw_list_compositing_images\u001b[1;34m(renderer, parent, artists, suppress_composite)\u001b[0m\n\u001b[0;32m    133\u001b[0m     \u001b[1;32mif\u001b[0m \u001b[0mnot_composite\u001b[0m \u001b[1;32mor\u001b[0m \u001b[1;32mnot\u001b[0m \u001b[0mhas_images\u001b[0m\u001b[1;33m:\u001b[0m\u001b[1;33m\u001b[0m\u001b[1;33m\u001b[0m\u001b[0m\n\u001b[0;32m    134\u001b[0m         \u001b[1;32mfor\u001b[0m \u001b[0ma\u001b[0m \u001b[1;32min\u001b[0m \u001b[0martists\u001b[0m\u001b[1;33m:\u001b[0m\u001b[1;33m\u001b[0m\u001b[1;33m\u001b[0m\u001b[0m\n\u001b[1;32m--> 135\u001b[1;33m             \u001b[0ma\u001b[0m\u001b[1;33m.\u001b[0m\u001b[0mdraw\u001b[0m\u001b[1;33m(\u001b[0m\u001b[0mrenderer\u001b[0m\u001b[1;33m)\u001b[0m\u001b[1;33m\u001b[0m\u001b[1;33m\u001b[0m\u001b[0m\n\u001b[0m\u001b[0;32m    136\u001b[0m     \u001b[1;32melse\u001b[0m\u001b[1;33m:\u001b[0m\u001b[1;33m\u001b[0m\u001b[1;33m\u001b[0m\u001b[0m\n\u001b[0;32m    137\u001b[0m         \u001b[1;31m# Composite any adjacent images together\u001b[0m\u001b[1;33m\u001b[0m\u001b[1;33m\u001b[0m\u001b[1;33m\u001b[0m\u001b[0m\n",
      "\u001b[1;32m~\\Anaconda3\\lib\\site-packages\\matplotlib\\artist.py\u001b[0m in \u001b[0;36mdraw_wrapper\u001b[1;34m(artist, renderer, *args, **kwargs)\u001b[0m\n\u001b[0;32m     36\u001b[0m                 \u001b[0mrenderer\u001b[0m\u001b[1;33m.\u001b[0m\u001b[0mstart_filter\u001b[0m\u001b[1;33m(\u001b[0m\u001b[1;33m)\u001b[0m\u001b[1;33m\u001b[0m\u001b[1;33m\u001b[0m\u001b[0m\n\u001b[0;32m     37\u001b[0m \u001b[1;33m\u001b[0m\u001b[0m\n\u001b[1;32m---> 38\u001b[1;33m             \u001b[1;32mreturn\u001b[0m \u001b[0mdraw\u001b[0m\u001b[1;33m(\u001b[0m\u001b[0martist\u001b[0m\u001b[1;33m,\u001b[0m \u001b[0mrenderer\u001b[0m\u001b[1;33m,\u001b[0m \u001b[1;33m*\u001b[0m\u001b[0margs\u001b[0m\u001b[1;33m,\u001b[0m \u001b[1;33m**\u001b[0m\u001b[0mkwargs\u001b[0m\u001b[1;33m)\u001b[0m\u001b[1;33m\u001b[0m\u001b[1;33m\u001b[0m\u001b[0m\n\u001b[0m\u001b[0;32m     39\u001b[0m         \u001b[1;32mfinally\u001b[0m\u001b[1;33m:\u001b[0m\u001b[1;33m\u001b[0m\u001b[1;33m\u001b[0m\u001b[0m\n\u001b[0;32m     40\u001b[0m             \u001b[1;32mif\u001b[0m \u001b[0martist\u001b[0m\u001b[1;33m.\u001b[0m\u001b[0mget_agg_filter\u001b[0m\u001b[1;33m(\u001b[0m\u001b[1;33m)\u001b[0m \u001b[1;32mis\u001b[0m \u001b[1;32mnot\u001b[0m \u001b[1;32mNone\u001b[0m\u001b[1;33m:\u001b[0m\u001b[1;33m\u001b[0m\u001b[1;33m\u001b[0m\u001b[0m\n",
      "\u001b[1;32m~\\Anaconda3\\lib\\site-packages\\matplotlib\\axes\\_base.py\u001b[0m in \u001b[0;36mdraw\u001b[1;34m(self, renderer, inframe)\u001b[0m\n\u001b[0;32m   2645\u001b[0m             \u001b[0mrenderer\u001b[0m\u001b[1;33m.\u001b[0m\u001b[0mstop_rasterizing\u001b[0m\u001b[1;33m(\u001b[0m\u001b[1;33m)\u001b[0m\u001b[1;33m\u001b[0m\u001b[1;33m\u001b[0m\u001b[0m\n\u001b[0;32m   2646\u001b[0m \u001b[1;33m\u001b[0m\u001b[0m\n\u001b[1;32m-> 2647\u001b[1;33m         \u001b[0mmimage\u001b[0m\u001b[1;33m.\u001b[0m\u001b[0m_draw_list_compositing_images\u001b[0m\u001b[1;33m(\u001b[0m\u001b[0mrenderer\u001b[0m\u001b[1;33m,\u001b[0m \u001b[0mself\u001b[0m\u001b[1;33m,\u001b[0m \u001b[0martists\u001b[0m\u001b[1;33m)\u001b[0m\u001b[1;33m\u001b[0m\u001b[1;33m\u001b[0m\u001b[0m\n\u001b[0m\u001b[0;32m   2648\u001b[0m \u001b[1;33m\u001b[0m\u001b[0m\n\u001b[0;32m   2649\u001b[0m         \u001b[0mrenderer\u001b[0m\u001b[1;33m.\u001b[0m\u001b[0mclose_group\u001b[0m\u001b[1;33m(\u001b[0m\u001b[1;34m'axes'\u001b[0m\u001b[1;33m)\u001b[0m\u001b[1;33m\u001b[0m\u001b[1;33m\u001b[0m\u001b[0m\n",
      "\u001b[1;32m~\\Anaconda3\\lib\\site-packages\\matplotlib\\image.py\u001b[0m in \u001b[0;36m_draw_list_compositing_images\u001b[1;34m(renderer, parent, artists, suppress_composite)\u001b[0m\n\u001b[0;32m    133\u001b[0m     \u001b[1;32mif\u001b[0m \u001b[0mnot_composite\u001b[0m \u001b[1;32mor\u001b[0m \u001b[1;32mnot\u001b[0m \u001b[0mhas_images\u001b[0m\u001b[1;33m:\u001b[0m\u001b[1;33m\u001b[0m\u001b[1;33m\u001b[0m\u001b[0m\n\u001b[0;32m    134\u001b[0m         \u001b[1;32mfor\u001b[0m \u001b[0ma\u001b[0m \u001b[1;32min\u001b[0m \u001b[0martists\u001b[0m\u001b[1;33m:\u001b[0m\u001b[1;33m\u001b[0m\u001b[1;33m\u001b[0m\u001b[0m\n\u001b[1;32m--> 135\u001b[1;33m             \u001b[0ma\u001b[0m\u001b[1;33m.\u001b[0m\u001b[0mdraw\u001b[0m\u001b[1;33m(\u001b[0m\u001b[0mrenderer\u001b[0m\u001b[1;33m)\u001b[0m\u001b[1;33m\u001b[0m\u001b[1;33m\u001b[0m\u001b[0m\n\u001b[0m\u001b[0;32m    136\u001b[0m     \u001b[1;32melse\u001b[0m\u001b[1;33m:\u001b[0m\u001b[1;33m\u001b[0m\u001b[1;33m\u001b[0m\u001b[0m\n\u001b[0;32m    137\u001b[0m         \u001b[1;31m# Composite any adjacent images together\u001b[0m\u001b[1;33m\u001b[0m\u001b[1;33m\u001b[0m\u001b[1;33m\u001b[0m\u001b[0m\n",
      "\u001b[1;32m~\\Anaconda3\\lib\\site-packages\\matplotlib\\artist.py\u001b[0m in \u001b[0;36mdraw_wrapper\u001b[1;34m(artist, renderer, *args, **kwargs)\u001b[0m\n\u001b[0;32m     36\u001b[0m                 \u001b[0mrenderer\u001b[0m\u001b[1;33m.\u001b[0m\u001b[0mstart_filter\u001b[0m\u001b[1;33m(\u001b[0m\u001b[1;33m)\u001b[0m\u001b[1;33m\u001b[0m\u001b[1;33m\u001b[0m\u001b[0m\n\u001b[0;32m     37\u001b[0m \u001b[1;33m\u001b[0m\u001b[0m\n\u001b[1;32m---> 38\u001b[1;33m             \u001b[1;32mreturn\u001b[0m \u001b[0mdraw\u001b[0m\u001b[1;33m(\u001b[0m\u001b[0martist\u001b[0m\u001b[1;33m,\u001b[0m \u001b[0mrenderer\u001b[0m\u001b[1;33m,\u001b[0m \u001b[1;33m*\u001b[0m\u001b[0margs\u001b[0m\u001b[1;33m,\u001b[0m \u001b[1;33m**\u001b[0m\u001b[0mkwargs\u001b[0m\u001b[1;33m)\u001b[0m\u001b[1;33m\u001b[0m\u001b[1;33m\u001b[0m\u001b[0m\n\u001b[0m\u001b[0;32m     39\u001b[0m         \u001b[1;32mfinally\u001b[0m\u001b[1;33m:\u001b[0m\u001b[1;33m\u001b[0m\u001b[1;33m\u001b[0m\u001b[0m\n\u001b[0;32m     40\u001b[0m             \u001b[1;32mif\u001b[0m \u001b[0martist\u001b[0m\u001b[1;33m.\u001b[0m\u001b[0mget_agg_filter\u001b[0m\u001b[1;33m(\u001b[0m\u001b[1;33m)\u001b[0m \u001b[1;32mis\u001b[0m \u001b[1;32mnot\u001b[0m \u001b[1;32mNone\u001b[0m\u001b[1;33m:\u001b[0m\u001b[1;33m\u001b[0m\u001b[1;33m\u001b[0m\u001b[0m\n",
      "\u001b[1;32m~\\Anaconda3\\lib\\site-packages\\matplotlib\\axis.py\u001b[0m in \u001b[0;36mdraw\u001b[1;34m(self, renderer, *args, **kwargs)\u001b[0m\n\u001b[0;32m   1206\u001b[0m \u001b[1;33m\u001b[0m\u001b[0m\n\u001b[0;32m   1207\u001b[0m         \u001b[1;32mfor\u001b[0m \u001b[0mtick\u001b[0m \u001b[1;32min\u001b[0m \u001b[0mticks_to_draw\u001b[0m\u001b[1;33m:\u001b[0m\u001b[1;33m\u001b[0m\u001b[1;33m\u001b[0m\u001b[0m\n\u001b[1;32m-> 1208\u001b[1;33m             \u001b[0mtick\u001b[0m\u001b[1;33m.\u001b[0m\u001b[0mdraw\u001b[0m\u001b[1;33m(\u001b[0m\u001b[0mrenderer\u001b[0m\u001b[1;33m)\u001b[0m\u001b[1;33m\u001b[0m\u001b[1;33m\u001b[0m\u001b[0m\n\u001b[0m\u001b[0;32m   1209\u001b[0m \u001b[1;33m\u001b[0m\u001b[0m\n\u001b[0;32m   1210\u001b[0m         \u001b[1;31m# scale up the axis label box to also find the neighbors, not\u001b[0m\u001b[1;33m\u001b[0m\u001b[1;33m\u001b[0m\u001b[1;33m\u001b[0m\u001b[0m\n",
      "\u001b[1;32m~\\Anaconda3\\lib\\site-packages\\matplotlib\\artist.py\u001b[0m in \u001b[0;36mdraw_wrapper\u001b[1;34m(artist, renderer, *args, **kwargs)\u001b[0m\n\u001b[0;32m     36\u001b[0m                 \u001b[0mrenderer\u001b[0m\u001b[1;33m.\u001b[0m\u001b[0mstart_filter\u001b[0m\u001b[1;33m(\u001b[0m\u001b[1;33m)\u001b[0m\u001b[1;33m\u001b[0m\u001b[1;33m\u001b[0m\u001b[0m\n\u001b[0;32m     37\u001b[0m \u001b[1;33m\u001b[0m\u001b[0m\n\u001b[1;32m---> 38\u001b[1;33m             \u001b[1;32mreturn\u001b[0m \u001b[0mdraw\u001b[0m\u001b[1;33m(\u001b[0m\u001b[0martist\u001b[0m\u001b[1;33m,\u001b[0m \u001b[0mrenderer\u001b[0m\u001b[1;33m,\u001b[0m \u001b[1;33m*\u001b[0m\u001b[0margs\u001b[0m\u001b[1;33m,\u001b[0m \u001b[1;33m**\u001b[0m\u001b[0mkwargs\u001b[0m\u001b[1;33m)\u001b[0m\u001b[1;33m\u001b[0m\u001b[1;33m\u001b[0m\u001b[0m\n\u001b[0m\u001b[0;32m     39\u001b[0m         \u001b[1;32mfinally\u001b[0m\u001b[1;33m:\u001b[0m\u001b[1;33m\u001b[0m\u001b[1;33m\u001b[0m\u001b[0m\n\u001b[0;32m     40\u001b[0m             \u001b[1;32mif\u001b[0m \u001b[0martist\u001b[0m\u001b[1;33m.\u001b[0m\u001b[0mget_agg_filter\u001b[0m\u001b[1;33m(\u001b[0m\u001b[1;33m)\u001b[0m \u001b[1;32mis\u001b[0m \u001b[1;32mnot\u001b[0m \u001b[1;32mNone\u001b[0m\u001b[1;33m:\u001b[0m\u001b[1;33m\u001b[0m\u001b[1;33m\u001b[0m\u001b[0m\n",
      "\u001b[1;32m~\\Anaconda3\\lib\\site-packages\\matplotlib\\axis.py\u001b[0m in \u001b[0;36mdraw\u001b[1;34m(self, renderer)\u001b[0m\n\u001b[0;32m    295\u001b[0m         for artist in [self.gridline, self.tick1line, self.tick2line,\n\u001b[0;32m    296\u001b[0m                        self.label1, self.label2]:\n\u001b[1;32m--> 297\u001b[1;33m             \u001b[0martist\u001b[0m\u001b[1;33m.\u001b[0m\u001b[0mdraw\u001b[0m\u001b[1;33m(\u001b[0m\u001b[0mrenderer\u001b[0m\u001b[1;33m)\u001b[0m\u001b[1;33m\u001b[0m\u001b[1;33m\u001b[0m\u001b[0m\n\u001b[0m\u001b[0;32m    298\u001b[0m         \u001b[0mrenderer\u001b[0m\u001b[1;33m.\u001b[0m\u001b[0mclose_group\u001b[0m\u001b[1;33m(\u001b[0m\u001b[0mself\u001b[0m\u001b[1;33m.\u001b[0m\u001b[0m__name__\u001b[0m\u001b[1;33m)\u001b[0m\u001b[1;33m\u001b[0m\u001b[1;33m\u001b[0m\u001b[0m\n\u001b[0;32m    299\u001b[0m         \u001b[0mself\u001b[0m\u001b[1;33m.\u001b[0m\u001b[0mstale\u001b[0m \u001b[1;33m=\u001b[0m \u001b[1;32mFalse\u001b[0m\u001b[1;33m\u001b[0m\u001b[1;33m\u001b[0m\u001b[0m\n",
      "\u001b[1;32m~\\Anaconda3\\lib\\site-packages\\matplotlib\\artist.py\u001b[0m in \u001b[0;36mdraw_wrapper\u001b[1;34m(artist, renderer, *args, **kwargs)\u001b[0m\n\u001b[0;32m     36\u001b[0m                 \u001b[0mrenderer\u001b[0m\u001b[1;33m.\u001b[0m\u001b[0mstart_filter\u001b[0m\u001b[1;33m(\u001b[0m\u001b[1;33m)\u001b[0m\u001b[1;33m\u001b[0m\u001b[1;33m\u001b[0m\u001b[0m\n\u001b[0;32m     37\u001b[0m \u001b[1;33m\u001b[0m\u001b[0m\n\u001b[1;32m---> 38\u001b[1;33m             \u001b[1;32mreturn\u001b[0m \u001b[0mdraw\u001b[0m\u001b[1;33m(\u001b[0m\u001b[0martist\u001b[0m\u001b[1;33m,\u001b[0m \u001b[0mrenderer\u001b[0m\u001b[1;33m,\u001b[0m \u001b[1;33m*\u001b[0m\u001b[0margs\u001b[0m\u001b[1;33m,\u001b[0m \u001b[1;33m**\u001b[0m\u001b[0mkwargs\u001b[0m\u001b[1;33m)\u001b[0m\u001b[1;33m\u001b[0m\u001b[1;33m\u001b[0m\u001b[0m\n\u001b[0m\u001b[0;32m     39\u001b[0m         \u001b[1;32mfinally\u001b[0m\u001b[1;33m:\u001b[0m\u001b[1;33m\u001b[0m\u001b[1;33m\u001b[0m\u001b[0m\n\u001b[0;32m     40\u001b[0m             \u001b[1;32mif\u001b[0m \u001b[0martist\u001b[0m\u001b[1;33m.\u001b[0m\u001b[0mget_agg_filter\u001b[0m\u001b[1;33m(\u001b[0m\u001b[1;33m)\u001b[0m \u001b[1;32mis\u001b[0m \u001b[1;32mnot\u001b[0m \u001b[1;32mNone\u001b[0m\u001b[1;33m:\u001b[0m\u001b[1;33m\u001b[0m\u001b[1;33m\u001b[0m\u001b[0m\n",
      "\u001b[1;32m~\\Anaconda3\\lib\\site-packages\\matplotlib\\lines.py\u001b[0m in \u001b[0;36mdraw\u001b[1;34m(self, renderer)\u001b[0m\n\u001b[0;32m    864\u001b[0m                 \u001b[1;32melse\u001b[0m\u001b[1;33m:\u001b[0m\u001b[1;33m\u001b[0m\u001b[1;33m\u001b[0m\u001b[0m\n\u001b[0;32m    865\u001b[0m                     \u001b[1;31m# Don't scale for pixels, and don't stroke them\u001b[0m\u001b[1;33m\u001b[0m\u001b[1;33m\u001b[0m\u001b[1;33m\u001b[0m\u001b[0m\n\u001b[1;32m--> 866\u001b[1;33m                     \u001b[0mmarker_trans\u001b[0m \u001b[1;33m=\u001b[0m \u001b[0mmarker_trans\u001b[0m\u001b[1;33m.\u001b[0m\u001b[0mscale\u001b[0m\u001b[1;33m(\u001b[0m\u001b[0mw\u001b[0m\u001b[1;33m)\u001b[0m\u001b[1;33m\u001b[0m\u001b[1;33m\u001b[0m\u001b[0m\n\u001b[0m\u001b[0;32m    867\u001b[0m                 renderer.draw_markers(gc, marker_path, marker_trans,\n\u001b[0;32m    868\u001b[0m                                       \u001b[0msubsampled\u001b[0m\u001b[1;33m,\u001b[0m \u001b[0maffine\u001b[0m\u001b[1;33m.\u001b[0m\u001b[0mfrozen\u001b[0m\u001b[1;33m(\u001b[0m\u001b[1;33m)\u001b[0m\u001b[1;33m,\u001b[0m\u001b[1;33m\u001b[0m\u001b[1;33m\u001b[0m\u001b[0m\n",
      "\u001b[1;32m~\\Anaconda3\\lib\\site-packages\\matplotlib\\transforms.py\u001b[0m in \u001b[0;36mscale\u001b[1;34m(self, sx, sy)\u001b[0m\n\u001b[0;32m   1989\u001b[0m         scale_mtx = np.array(\n\u001b[0;32m   1990\u001b[0m             [[sx, 0.0, 0.0], [0.0, sy, 0.0], [0.0, 0.0, 1.0]], float)\n\u001b[1;32m-> 1991\u001b[1;33m         \u001b[0mself\u001b[0m\u001b[1;33m.\u001b[0m\u001b[0m_mtx\u001b[0m \u001b[1;33m=\u001b[0m \u001b[0mnp\u001b[0m\u001b[1;33m.\u001b[0m\u001b[0mdot\u001b[0m\u001b[1;33m(\u001b[0m\u001b[0mscale_mtx\u001b[0m\u001b[1;33m,\u001b[0m \u001b[0mself\u001b[0m\u001b[1;33m.\u001b[0m\u001b[0m_mtx\u001b[0m\u001b[1;33m)\u001b[0m\u001b[1;33m\u001b[0m\u001b[1;33m\u001b[0m\u001b[0m\n\u001b[0m\u001b[0;32m   1992\u001b[0m         \u001b[0mself\u001b[0m\u001b[1;33m.\u001b[0m\u001b[0minvalidate\u001b[0m\u001b[1;33m(\u001b[0m\u001b[1;33m)\u001b[0m\u001b[1;33m\u001b[0m\u001b[1;33m\u001b[0m\u001b[0m\n\u001b[0;32m   1993\u001b[0m         \u001b[1;32mreturn\u001b[0m \u001b[0mself\u001b[0m\u001b[1;33m\u001b[0m\u001b[1;33m\u001b[0m\u001b[0m\n",
      "\u001b[1;31mKeyboardInterrupt\u001b[0m: "
     ]
    }
   ],
   "source": [
    "# msk_day['T'].plot()\n",
    "plt.figure(figsize=(20, 5))\n",
    "plt.plot(msk_day['T'], linewidth=1)\n",
    "plt.xticks(msk_day.index)"
   ]
  },
  {
   "cell_type": "code",
   "execution_count": 138,
   "metadata": {},
   "outputs": [
    {
     "data": {
      "text/plain": [
       "count    1826.000000\n",
       "mean        8.772837\n",
       "std        10.986743\n",
       "min       -26.900000\n",
       "25%         0.400000\n",
       "50%         8.050000\n",
       "75%        18.500000\n",
       "max        31.700000\n",
       "Name: T, dtype: float64"
      ]
     },
     "execution_count": 138,
     "metadata": {},
     "output_type": "execute_result"
    }
   ],
   "source": [
    "msk_day['T'].describe()"
   ]
  },
  {
   "cell_type": "code",
   "execution_count": 174,
   "metadata": {},
   "outputs": [
    {
     "data": {
      "text/plain": [
       "([<matplotlib.axis.XTick at 0x23995ad0f88>,\n",
       "  <matplotlib.axis.XTick at 0x23995b94888>,\n",
       "  <matplotlib.axis.XTick at 0x23995b8d448>,\n",
       "  <matplotlib.axis.XTick at 0x23995bfab08>,\n",
       "  <matplotlib.axis.XTick at 0x23995be5388>,\n",
       "  <matplotlib.axis.XTick at 0x23995be5048>,\n",
       "  <matplotlib.axis.XTick at 0x23995be7208>,\n",
       "  <matplotlib.axis.XTick at 0x23995be7c48>,\n",
       "  <matplotlib.axis.XTick at 0x23995bea748>,\n",
       "  <matplotlib.axis.XTick at 0x23995bee2c8>,\n",
       "  <matplotlib.axis.XTick at 0x23995beecc8>,\n",
       "  <matplotlib.axis.XTick at 0x23995bf07c8>,\n",
       "  <matplotlib.axis.XTick at 0x23995bfc2c8>,\n",
       "  <matplotlib.axis.XTick at 0x23995bfcd88>,\n",
       "  <matplotlib.axis.XTick at 0x23995bfc908>,\n",
       "  <matplotlib.axis.XTick at 0x23995bff548>,\n",
       "  <matplotlib.axis.XTick at 0x23995bffb48>,\n",
       "  <matplotlib.axis.XTick at 0x23995c024c8>,\n",
       "  <matplotlib.axis.XTick at 0x23995c06108>,\n",
       "  <matplotlib.axis.XTick at 0x23995c06b48>,\n",
       "  <matplotlib.axis.XTick at 0x23995c0c648>,\n",
       "  <matplotlib.axis.XTick at 0x23995c0e1c8>,\n",
       "  <matplotlib.axis.XTick at 0x23995c0ec08>,\n",
       "  <matplotlib.axis.XTick at 0x23995c06c48>,\n",
       "  <matplotlib.axis.XTick at 0x23995bff508>,\n",
       "  <matplotlib.axis.XTick at 0x23996311988>,\n",
       "  <matplotlib.axis.XTick at 0x23996315448>,\n",
       "  <matplotlib.axis.XTick at 0x23996315c08>,\n",
       "  <matplotlib.axis.XTick at 0x239963189c8>,\n",
       "  <matplotlib.axis.XTick at 0x2399631c4c8>,\n",
       "  <matplotlib.axis.XTick at 0x23996320088>,\n",
       "  <matplotlib.axis.XTick at 0x23996320a88>,\n",
       "  <matplotlib.axis.XTick at 0x23996325588>,\n",
       "  <matplotlib.axis.XTick at 0x23996325e08>,\n",
       "  <matplotlib.axis.XTick at 0x23996315508>,\n",
       "  <matplotlib.axis.XTick at 0x23996329388>,\n",
       "  <matplotlib.axis.XTick at 0x23996329ec8>,\n",
       "  <matplotlib.axis.XTick at 0x2399632b648>,\n",
       "  <matplotlib.axis.XTick at 0x23996330048>,\n",
       "  <matplotlib.axis.XTick at 0x23996330d48>,\n",
       "  <matplotlib.axis.XTick at 0x23996334848>,\n",
       "  <matplotlib.axis.XTick at 0x23996337348>,\n",
       "  <matplotlib.axis.XTick at 0x23996337e08>,\n",
       "  <matplotlib.axis.XTick at 0x23996337988>,\n",
       "  <matplotlib.axis.XTick at 0x23996329b88>,\n",
       "  <matplotlib.axis.XTick at 0x2399633aac8>,\n",
       "  <matplotlib.axis.XTick at 0x2399633e448>,\n",
       "  <matplotlib.axis.XTick at 0x23996342088>,\n",
       "  <matplotlib.axis.XTick at 0x23996342a48>,\n",
       "  <matplotlib.axis.XTick at 0x23996346548>,\n",
       "  <matplotlib.axis.XTick at 0x239963490c8>,\n",
       "  <matplotlib.axis.XTick at 0x23996349b08>,\n",
       "  <matplotlib.axis.XTick at 0x23996342b48>,\n",
       "  <matplotlib.axis.XTick at 0x2399633a988>,\n",
       "  <matplotlib.axis.XTick at 0x2399634e888>,\n",
       "  <matplotlib.axis.XTick at 0x23996350348>,\n",
       "  <matplotlib.axis.XTick at 0x23996350c88>,\n",
       "  <matplotlib.axis.XTick at 0x239963548c8>,\n",
       "  <matplotlib.axis.XTick at 0x239963593c8>,\n",
       "  <matplotlib.axis.XTick at 0x23996359e88>,\n",
       "  <matplotlib.axis.XTick at 0x2399635e988>,\n",
       "  <matplotlib.axis.XTick at 0x23996361488>,\n",
       "  <matplotlib.axis.XTick at 0x2399635ea88>,\n",
       "  <matplotlib.axis.XTick at 0x23996361b08>,\n",
       "  <matplotlib.axis.XTick at 0x23996365288>,\n",
       "  <matplotlib.axis.XTick at 0x23996365bc8>,\n",
       "  <matplotlib.axis.XTick at 0x23996367548>,\n",
       "  <matplotlib.axis.XTick at 0x2399636c208>,\n",
       "  <matplotlib.axis.XTick at 0x2399636cc48>,\n",
       "  <matplotlib.axis.XTick at 0x2399636f748>,\n",
       "  <matplotlib.axis.XTick at 0x239963732c8>,\n",
       "  <matplotlib.axis.XTick at 0x23996373d08>,\n",
       "  <matplotlib.axis.XTick at 0x2399636f648>,\n",
       "  <matplotlib.axis.XTick at 0x23996365a08>,\n",
       "  <matplotlib.axis.XTick at 0x239963779c8>,\n",
       "  <matplotlib.axis.XTick at 0x2399637b348>,\n",
       "  <matplotlib.axis.XTick at 0x2399637be88>,\n",
       "  <matplotlib.axis.XTick at 0x2399637e948>,\n",
       "  <matplotlib.axis.XTick at 0x23996382448>,\n",
       "  <matplotlib.axis.XTick at 0x23996382dc8>,\n",
       "  <matplotlib.axis.XTick at 0x23996385a08>,\n",
       "  <matplotlib.axis.XTick at 0x23996382048>,\n",
       "  <matplotlib.axis.XTick at 0x23996377b08>,\n",
       "  <matplotlib.axis.XTick at 0x2399638a788>,\n",
       "  <matplotlib.axis.XTick at 0x2399638c248>,\n",
       "  <matplotlib.axis.XTick at 0x2399638cb88>,\n",
       "  <matplotlib.axis.XTick at 0x239963917c8>,\n",
       "  <matplotlib.axis.XTick at 0x239963952c8>,\n",
       "  <matplotlib.axis.XTick at 0x23996395d88>,\n",
       "  <matplotlib.axis.XTick at 0x2399639a888>,\n",
       "  <matplotlib.axis.XTick at 0x2399639d388>,\n",
       "  <matplotlib.axis.XTick at 0x2399639af48>,\n",
       "  <matplotlib.axis.XTick at 0x2399638a088>,\n",
       "  <matplotlib.axis.XTick at 0x2399639d948>,\n",
       "  <matplotlib.axis.XTick at 0x239963a0248>,\n",
       "  <matplotlib.axis.XTick at 0x239963a0b88>,\n",
       "  <matplotlib.axis.XTick at 0x239963a3508>,\n",
       "  <matplotlib.axis.XTick at 0x239963a61c8>,\n",
       "  <matplotlib.axis.XTick at 0x239963a69c8>,\n",
       "  <matplotlib.axis.XTick at 0x239963ab448>,\n",
       "  <matplotlib.axis.XTick at 0x239963abdc8>,\n",
       "  <matplotlib.axis.XTick at 0x239963a3d08>,\n",
       "  <matplotlib.axis.XTick at 0x239963aba88>,\n",
       "  <matplotlib.axis.XTick at 0x239963aec48>,\n",
       "  <matplotlib.axis.XTick at 0x239963b15c8>,\n",
       "  <matplotlib.axis.XTick at 0x239963b5208>,\n",
       "  <matplotlib.axis.XTick at 0x239963b5b48>,\n",
       "  <matplotlib.axis.XTick at 0x239963ba648>,\n",
       "  <matplotlib.axis.XTick at 0x239963bd1c8>,\n",
       "  <matplotlib.axis.XTick at 0x239963bdc08>,\n",
       "  <matplotlib.axis.XTick at 0x239963b5c48>,\n",
       "  <matplotlib.axis.XTick at 0x239963ae548>,\n",
       "  <matplotlib.axis.XTick at 0x239963c1988>,\n",
       "  <matplotlib.axis.XTick at 0x239963c5448>,\n",
       "  <matplotlib.axis.XTick at 0x239963c5c08>,\n",
       "  <matplotlib.axis.XTick at 0x239963c89c8>,\n",
       "  <matplotlib.axis.XTick at 0x239963cc4c8>,\n",
       "  <matplotlib.axis.XTick at 0x239963d1088>,\n",
       "  <matplotlib.axis.XTick at 0x239963d1a88>,\n",
       "  <matplotlib.axis.XTick at 0x239963d5588>,\n",
       "  <matplotlib.axis.XTick at 0x239963d5e08>,\n",
       "  <matplotlib.axis.XTick at 0x239963c5508>,\n",
       "  <matplotlib.axis.XTick at 0x239963d8388>,\n",
       "  <matplotlib.axis.XTick at 0x239963d8ec8>,\n",
       "  <matplotlib.axis.XTick at 0x239963dc648>,\n",
       "  <matplotlib.axis.XTick at 0x239963e1048>,\n",
       "  <matplotlib.axis.XTick at 0x239963e1d48>,\n",
       "  <matplotlib.axis.XTick at 0x239963e4848>,\n",
       "  <matplotlib.axis.XTick at 0x239963e8348>,\n",
       "  <matplotlib.axis.XTick at 0x239963e8e08>,\n",
       "  <matplotlib.axis.XTick at 0x239963e8988>,\n",
       "  <matplotlib.axis.XTick at 0x239963d8b88>,\n",
       "  <matplotlib.axis.XTick at 0x239963ecac8>,\n",
       "  <matplotlib.axis.XTick at 0x239963ef448>,\n",
       "  <matplotlib.axis.XTick at 0x239963f2088>,\n",
       "  <matplotlib.axis.XTick at 0x239963f2a48>,\n",
       "  <matplotlib.axis.XTick at 0x239963f6548>,\n",
       "  <matplotlib.axis.XTick at 0x239963fb0c8>,\n",
       "  <matplotlib.axis.XTick at 0x239963fbb08>,\n",
       "  <matplotlib.axis.XTick at 0x239963f2b48>,\n",
       "  <matplotlib.axis.XTick at 0x239963ec988>,\n",
       "  <matplotlib.axis.XTick at 0x239963ff888>,\n",
       "  <matplotlib.axis.XTick at 0x23996402348>,\n",
       "  <matplotlib.axis.XTick at 0x23996402c88>,\n",
       "  <matplotlib.axis.XTick at 0x239964048c8>,\n",
       "  <matplotlib.axis.XTick at 0x2399640a3c8>,\n",
       "  <matplotlib.axis.XTick at 0x2399640ae88>,\n",
       "  <matplotlib.axis.XTick at 0x2399640d988>,\n",
       "  <matplotlib.axis.XTick at 0x23996411488>,\n",
       "  <matplotlib.axis.XTick at 0x2399640da88>,\n",
       "  <matplotlib.axis.XTick at 0x23996411b08>,\n",
       "  <matplotlib.axis.XTick at 0x23996416288>,\n",
       "  <matplotlib.axis.XTick at 0x23996416bc8>,\n",
       "  <matplotlib.axis.XTick at 0x23996418548>,\n",
       "  <matplotlib.axis.XTick at 0x2399641c208>,\n",
       "  <matplotlib.axis.XTick at 0x2399641cc48>,\n",
       "  <matplotlib.axis.XTick at 0x23996420748>,\n",
       "  <matplotlib.axis.XTick at 0x239964242c8>,\n",
       "  <matplotlib.axis.XTick at 0x23996424d08>,\n",
       "  <matplotlib.axis.XTick at 0x23996420648>,\n",
       "  <matplotlib.axis.XTick at 0x23996416a08>,\n",
       "  <matplotlib.axis.XTick at 0x239964279c8>,\n",
       "  <matplotlib.axis.XTick at 0x2399642a348>,\n",
       "  <matplotlib.axis.XTick at 0x2399642ae88>,\n",
       "  <matplotlib.axis.XTick at 0x2399642f948>,\n",
       "  <matplotlib.axis.XTick at 0x23996433448>,\n",
       "  <matplotlib.axis.XTick at 0x23996433dc8>,\n",
       "  <matplotlib.axis.XTick at 0x23996436a08>,\n",
       "  <matplotlib.axis.XTick at 0x23996433048>,\n",
       "  <matplotlib.axis.XTick at 0x23996427b08>,\n",
       "  <matplotlib.axis.XTick at 0x2399643c788>,\n",
       "  <matplotlib.axis.XTick at 0x2399643e248>,\n",
       "  <matplotlib.axis.XTick at 0x2399643eb88>,\n",
       "  <matplotlib.axis.XTick at 0x239964417c8>,\n",
       "  <matplotlib.axis.XTick at 0x239964462c8>],\n",
       " <a list of 175 Text xticklabel objects>)"
      ]
     },
     "execution_count": 174,
     "metadata": {},
     "output_type": "execute_result"
    },
    {
     "data": {
      "image/png": "[encoded data removed]",
      "text/plain": [
       "<Figure size 2880x720 with 1 Axes>"
      ]
     },
     "metadata": {
      "needs_background": "light"
     },
     "output_type": "display_data"
    }
   ],
   "source": [
    "plt.figure(figsize=(40, 10))\n",
    "autocorrelation_plot(msk_day['T'])\n",
    "plt.xticks(range(1750)[::10], rotation=45)"
   ]
  },
  {
   "cell_type": "code",
   "execution_count": 140,
   "metadata": {},
   "outputs": [
    {
     "data": {
      "text/plain": [
       "<matplotlib.axes._subplots.AxesSubplot at 0x23994c60ec8>"
      ]
     },
     "execution_count": 140,
     "metadata": {},
     "output_type": "execute_result"
    },
    {
     "data": {
      "image/png": "[encoded data removed]",
      "text/plain": [
       "<Figure size 432x288 with 1 Axes>"
      ]
     },
     "metadata": {
      "needs_background": "light"
     },
     "output_type": "display_data"
    }
   ],
   "source": [
    "msk_day['T'].hist(bins=100)"
   ]
  },
  {
   "cell_type": "code",
   "execution_count": 141,
   "metadata": {},
   "outputs": [],
   "source": [
    "decomposition = seasonal_decompose(msk_hours['T'], freq=1)"
   ]
  },
  {
   "cell_type": "code",
   "execution_count": 142,
   "metadata": {},
   "outputs": [
    {
     "data": {
      "text/plain": [
       "DatetimeIndex(['2015-01-01 12:00:00', '2015-01-02 12:00:00',\n",
       "               '2015-01-03 12:00:00', '2015-01-04 12:00:00',\n",
       "               '2015-01-05 12:00:00', '2015-01-06 12:00:00',\n",
       "               '2015-01-07 12:00:00', '2015-01-08 12:00:00',\n",
       "               '2015-01-09 12:00:00', '2015-01-10 12:00:00',\n",
       "               ...\n",
       "               '2019-12-23 12:00:00', '2019-12-24 12:00:00',\n",
       "               '2019-12-25 12:00:00', '2019-12-26 12:00:00',\n",
       "               '2019-12-27 12:00:00', '2019-12-28 12:00:00',\n",
       "               '2019-12-29 12:00:00', '2019-12-30 12:00:00',\n",
       "               '2019-12-31 12:00:00', '2020-01-01 12:00:00'],\n",
       "              dtype='datetime64[ns]', name='Time', length=1826, freq=None)"
      ]
     },
     "execution_count": 142,
     "metadata": {},
     "output_type": "execute_result"
    }
   ],
   "source": [
    "msk_day.index"
   ]
  },
  {
   "cell_type": "code",
   "execution_count": 83,
   "metadata": {},
   "outputs": [
    {
     "data": {
      "text/plain": [
       "1826"
      ]
     },
     "execution_count": 83,
     "metadata": {},
     "output_type": "execute_result"
    }
   ],
   "source": [
    "len(msk_day)"
   ]
  },
  {
   "cell_type": "code",
   "execution_count": 143,
   "metadata": {},
   "outputs": [
    {
     "name": "stderr",
     "output_type": "stream",
     "text": [
      "C:\\Users\\Nastasia\\Anaconda3\\lib\\site-packages\\statsmodels\\tsa\\base\\tsa_model.py:219: ValueWarning: A date index has been provided, but it has no associated frequency information and so will be ignored when e.g. forecasting.\n",
      "  ' ignored when e.g. forecasting.', ValueWarning)\n",
      "C:\\Users\\Nastasia\\Anaconda3\\lib\\site-packages\\statsmodels\\tsa\\base\\tsa_model.py:576: ValueWarning: No supported index is available. Prediction results will be given with an integer index beginning at `start`.\n",
      "  ValueWarning)\n",
      "C:\\Users\\Nastasia\\Anaconda3\\lib\\site-packages\\statsmodels\\tsa\\base\\tsa_model.py:576: ValueWarning: No supported index is available. Prediction results will be given with an integer index beginning at `start`.\n",
      "  ValueWarning)\n"
     ]
    },
    {
     "data": {
      "image/png": "[encoded data removed]",
      "text/plain": [
       "<Figure size 432x288 with 1 Axes>"
      ]
     },
     "execution_count": 143,
     "metadata": {},
     "output_type": "execute_result"
    },
    {
     "data": {
      "image/png": "[encoded data removed]",
      "text/plain": [
       "<Figure size 432x288 with 1 Axes>"
      ]
     },
     "metadata": {
      "needs_background": "light"
     },
     "output_type": "display_data"
    }
   ],
   "source": [
    "mod = ARMA(msk_day['T'], order=(1, 0))\n",
    "res = mod.fit(disp=0)\n",
    "# fig, ax = plt.subplots()\n",
    "# ax = msk_day['T'].plot(ax=ax)\n",
    "res.plot_predict(start = 1, end=2000)"
   ]
  },
  {
   "cell_type": "code",
   "execution_count": null,
   "metadata": {},
   "outputs": [],
   "source": []
  },
  {
   "cell_type": "code",
   "execution_count": null,
   "metadata": {},
   "outputs": [],
   "source": [
    "msk_day.sort_values(ascending=False)"
   ]
  },
  {
   "cell_type": "code",
   "execution_count": 39,
   "metadata": {},
   "outputs": [
    {
     "data": {
      "text/plain": [
       "Time\n",
       "2016-12-17 12:00:00    66.0\n",
       "2015-11-21 12:00:00    27.0\n",
       "2019-10-31 12:00:00    25.0\n",
       "2019-01-14 12:00:00    21.0\n",
       "2018-11-20 12:00:00    18.5\n",
       "                       ... \n",
       "2016-12-30 12:00:00   -20.0\n",
       "2017-04-14 12:00:00   -25.0\n",
       "2016-11-10 12:00:00   -31.0\n",
       "2017-12-08 12:00:00   -40.0\n",
       "2017-10-26 12:00:00    -inf\n",
       "Name: T, Length: 1818, dtype: float64"
      ]
     },
     "execution_count": 39,
     "metadata": {},
     "output_type": "execute_result"
    }
   ],
   "source": [
    "day_change = msk_hours['T'].pct_change()  #.sort_values(ascending=False)\n",
    "day_change[day_change < np.inf].sort_values(ascending=False)"
   ]
  },
  {
   "cell_type": "code",
   "execution_count": 41,
   "metadata": {},
   "outputs": [
    {
     "data": {
      "text/plain": [
       "Time\n",
       "2018-04-21 12:00:00    16.1\n",
       "2018-09-22 12:00:00    15.0\n",
       "2016-05-11 12:00:00    14.8\n",
       "2017-01-05 12:00:00    14.4\n",
       "2015-04-29 12:00:00    14.3\n",
       "                       ... \n",
       "2017-01-09 12:00:00   -11.2\n",
       "2017-04-28 12:00:00   -11.7\n",
       "2018-05-01 12:00:00   -11.7\n",
       "2017-05-28 12:00:00   -13.4\n",
       "2020-01-01 12:00:00     NaN\n",
       "Name: T, Length: 1826, dtype: float64"
      ]
     },
     "execution_count": 41,
     "metadata": {},
     "output_type": "execute_result"
    }
   ],
   "source": [
    "day_change = msk_hours['T'].diff()\n",
    "day_change.sort_values(ascending=False)"
   ]
  },
  {
   "cell_type": "code",
   "execution_count": 27,
   "metadata": {},
   "outputs": [
    {
     "ename": "TypeError",
     "evalue": "'DecomposeResult' object is not subscriptable",
     "output_type": "error",
     "traceback": [
      "\u001b[1;31m---------------------------------------------------------------------------\u001b[0m",
      "\u001b[1;31mTypeError\u001b[0m                                 Traceback (most recent call last)",
      "\u001b[1;32m<ipython-input-27-f2d8894ed4f6>\u001b[0m in \u001b[0;36m<module>\u001b[1;34m\u001b[0m\n\u001b[1;32m----> 1\u001b[1;33m \u001b[0mdecomposition\u001b[0m\u001b[1;33m[\u001b[0m\u001b[1;34m'seasonal'\u001b[0m\u001b[1;33m]\u001b[0m\u001b[1;33m\u001b[0m\u001b[1;33m\u001b[0m\u001b[0m\n\u001b[0m",
      "\u001b[1;31mTypeError\u001b[0m: 'DecomposeResult' object is not subscriptable"
     ]
    }
   ],
   "source": [
    "decomposition"
   ]
  },
  {
   "cell_type": "code",
   "execution_count": 25,
   "metadata": {},
   "outputs": [
    {
     "data": {
      "image/png": "[encoded data removed]",
      "text/plain": [
       "<Figure size 432x288 with 4 Axes>"
      ]
     },
     "execution_count": 25,
     "metadata": {},
     "output_type": "execute_result"
    },
    {
     "data": {
      "image/png": "[encoded data removed]",
      "text/plain": [
       "<Figure size 432x288 with 4 Axes>"
      ]
     },
     "metadata": {
      "needs_background": "light"
     },
     "output_type": "display_data"
    }
   ],
   "source": [
    "decomposition.plot()"
   ]
  },
  {
   "cell_type": "code",
   "execution_count": null,
   "metadata": {},
   "outputs": [],
   "source": [
    "'это строка' \"Это тоже\""
   ]
  },
  {
   "cell_type": "code",
   "execution_count": 75,
   "metadata": {},
   "outputs": [
    {
     "name": "stdout",
     "output_type": "stream",
     "text": [
      "bes\t\n"
     ]
    }
   ],
   "source": [
    "print('bes\\t')"
   ]
  },
  {
   "cell_type": "code",
   "execution_count": 66,
   "metadata": {},
   "outputs": [],
   "source": [
    "all_data = pd.DataFrame()\n",
    "all_data['Moscow'] = data_msk['T']\n",
    "all_data['S. Petersburg'] = data_spb['T']\n",
    "all_data['Vellington'] = data_vell['T']"
   ]
  },
  {
   "cell_type": "code",
   "execution_count": 68,
   "metadata": {},
   "outputs": [
    {
     "data": {
      "text/html": [
       "<div>\n",
       "<style scoped>\n",
       "    .dataframe tbody tr th:only-of-type {\n",
       "        vertical-align: middle;\n",
       "    }\n",
       "\n",
       "    .dataframe tbody tr th {\n",
       "        vertical-align: top;\n",
       "    }\n",
       "\n",
       "    .dataframe thead th {\n",
       "        text-align: right;\n",
       "    }\n",
       "</style>\n",
       "<table border=\"1\" class=\"dataframe\">\n",
       "  <thead>\n",
       "    <tr style=\"text-align: right;\">\n",
       "      <th></th>\n",
       "      <th>Moscow</th>\n",
       "      <th>S. Petersburg</th>\n",
       "      <th>Vellington</th>\n",
       "    </tr>\n",
       "  </thead>\n",
       "  <tbody>\n",
       "    <tr>\n",
       "      <td>Moscow</td>\n",
       "      <td>1.000000</td>\n",
       "      <td>0.916477</td>\n",
       "      <td>-0.559160</td>\n",
       "    </tr>\n",
       "    <tr>\n",
       "      <td>S. Petersburg</td>\n",
       "      <td>0.916477</td>\n",
       "      <td>1.000000</td>\n",
       "      <td>-0.583254</td>\n",
       "    </tr>\n",
       "    <tr>\n",
       "      <td>Vellington</td>\n",
       "      <td>-0.559160</td>\n",
       "      <td>-0.583254</td>\n",
       "      <td>1.000000</td>\n",
       "    </tr>\n",
       "  </tbody>\n",
       "</table>\n",
       "</div>"
      ],
      "text/plain": [
       "                 Moscow  S. Petersburg  Vellington\n",
       "Moscow         1.000000       0.916477   -0.559160\n",
       "S. Petersburg  0.916477       1.000000   -0.583254\n",
       "Vellington    -0.559160      -0.583254    1.000000"
      ]
     },
     "execution_count": 68,
     "metadata": {},
     "output_type": "execute_result"
    }
   ],
   "source": [
    "all_data.corr()"
   ]
  },
  {
   "cell_type": "code",
   "execution_count": 72,
   "metadata": {},
   "outputs": [
    {
     "data": {
      "text/plain": [
       "<matplotlib.axes._subplots.AxesSubplot at 0x287009948c8>"
      ]
     },
     "execution_count": 72,
     "metadata": {},
     "output_type": "execute_result"
    },
    {
     "data": {
      "text/plain": [
       "<Figure size 1080x720 with 0 Axes>"
      ]
     },
     "metadata": {},
     "output_type": "display_data"
    },
    {
     "data": {
      "image/png": "[encoded data removed]",
      "text/plain": [
       "<Figure size 432x288 with 1 Axes>"
      ]
     },
     "metadata": {
      "needs_background": "light"
     },
     "output_type": "display_data"
    }
   ],
   "source": [
    "plt.figure(figsize=(15, 10))\n",
    "all_data.plot()"
   ]
  },
  {
   "cell_type": "code",
   "execution_count": 49,
   "metadata": {},
   "outputs": [
    {
     "data": {
      "text/plain": [
       "(17647, 14607, 14489)"
      ]
     },
     "execution_count": 49,
     "metadata": {},
     "output_type": "execute_result"
    }
   ],
   "source": [
    "len(data_msk), len(data_spb), len(data_vell)"
   ]
  },
  {
   "cell_type": "code",
   "execution_count": 50,
   "metadata": {},
   "outputs": [],
   "source": [
    "data_msk = data_msk[data_msk.index.hour == 12]\n",
    "data_novosib = data_novosib[data_novosib.index.hour == 13]\n",
    "data_spb = data_spb[data_spb.index.hour == 12]\n",
    "data_vell = data_vell[data_vell.index.hour==12]"
   ]
  },
  {
   "cell_type": "code",
   "execution_count": 51,
   "metadata": {},
   "outputs": [
    {
     "data": {
      "text/plain": [
       "(1808, 1826, 1826)"
      ]
     },
     "execution_count": 51,
     "metadata": {},
     "output_type": "execute_result"
    }
   ],
   "source": [
    "len(data_vell), len(data_msk), len(data_spb)"
   ]
  },
  {
   "cell_type": "code",
   "execution_count": 53,
   "metadata": {},
   "outputs": [
    {
     "data": {
      "text/plain": [
       "{Timestamp('2015-05-20 12:00:00'),\n",
       " Timestamp('2015-05-21 12:00:00'),\n",
       " Timestamp('2015-05-22 12:00:00'),\n",
       " Timestamp('2015-05-23 12:00:00'),\n",
       " Timestamp('2015-05-24 12:00:00'),\n",
       " Timestamp('2015-05-25 12:00:00'),\n",
       " Timestamp('2015-05-26 12:00:00'),\n",
       " Timestamp('2015-05-27 12:00:00'),\n",
       " Timestamp('2015-07-23 12:00:00'),\n",
       " Timestamp('2017-08-04 12:00:00'),\n",
       " Timestamp('2017-10-11 12:00:00'),\n",
       " Timestamp('2017-10-12 12:00:00'),\n",
       " Timestamp('2018-04-22 12:00:00'),\n",
       " Timestamp('2018-07-13 12:00:00'),\n",
       " Timestamp('2019-02-16 12:00:00'),\n",
       " Timestamp('2019-02-17 12:00:00'),\n",
       " Timestamp('2019-02-18 12:00:00'),\n",
       " Timestamp('2019-07-01 12:00:00'),\n",
       " Timestamp('2019-07-25 12:00:00')}"
      ]
     },
     "execution_count": 53,
     "metadata": {},
     "output_type": "execute_result"
    }
   ],
   "source": [
    "set(data_msk.index) - set(data_vell.index)"
   ]
  },
  {
   "cell_type": "code",
   "execution_count": 47,
   "metadata": {},
   "outputs": [
    {
     "data": {
      "text/plain": [
       "Int64Index([12, 12, 12, 12, 12, 12, 12, 12, 12, 12,\n",
       "            ...\n",
       "            12, 12, 12, 12, 12, 12, 12, 12, 12, 12],\n",
       "           dtype='int64', name='Местное время в Санкт-Петербурге', length=1826)"
      ]
     },
     "execution_count": 47,
     "metadata": {},
     "output_type": "execute_result"
    }
   ],
   "source": [
    "data_spb.index.hour"
   ]
  },
  {
   "cell_type": "code",
   "execution_count": null,
   "metadata": {},
   "outputs": [],
   "source": []
  },
  {
   "cell_type": "code",
   "execution_count": null,
   "metadata": {},
   "outputs": [],
   "source": []
  },
  {
   "cell_type": "code",
   "execution_count": null,
   "metadata": {},
   "outputs": [],
   "source": []
  },
  {
   "cell_type": "code",
   "execution_count": null,
   "metadata": {},
   "outputs": [],
   "source": []
  },
  {
   "cell_type": "code",
   "execution_count": null,
   "metadata": {
    "scrolled": true
   },
   "outputs": [],
   "source": [
    "data = pd.read_excel('ar2.xls', skiprows=6)\n",
    "data = data.set_index('Местное время в Москве (центр, Балчуг)')\n",
    "plt.figure(figsize=(10, 8))\n",
    "data['sss'].fillna(0).unique()"
   ]
  },
  {
   "cell_type": "code",
   "execution_count": null,
   "metadata": {},
   "outputs": [],
   "source": [
    "data.loc[data['sss'] == 'Менее 0.5', 'sss'] = 0\n",
    "data.loc[data['sss'] == 'Снежный покров не постоянный.', 'sss'] = 0"
   ]
  },
  {
   "cell_type": "code",
   "execution_count": null,
   "metadata": {},
   "outputs": [],
   "source": [
    "data['sss'].fillna(0).unique()"
   ]
  },
  {
   "cell_type": "code",
   "execution_count": null,
   "metadata": {},
   "outputs": [],
   "source": [
    "data[~data['sss'].isna()]"
   ]
  },
  {
   "cell_type": "code",
   "execution_count": null,
   "metadata": {},
   "outputs": [],
   "source": [
    "data['sss'].plot()\n",
    "plt.xticks(rotation=45) "
   ]
  },
  {
   "cell_type": "code",
   "execution_count": null,
   "metadata": {},
   "outputs": [],
   "source": [
    "data[data['T'].isna()]"
   ]
  },
  {
   "cell_type": "code",
   "execution_count": null,
   "metadata": {},
   "outputs": [],
   "source": []
  },
  {
   "cell_type": "code",
   "execution_count": null,
   "metadata": {},
   "outputs": [],
   "source": [
    "data['T'].mean(), data['T'].max(), data['T'].min()"
   ]
  },
  {
   "cell_type": "code",
   "execution_count": null,
   "metadata": {},
   "outputs": [],
   "source": [
    "plt.plot(data.index[::100], data['VV'][::100])"
   ]
  },
  {
   "cell_type": "code",
   "execution_count": null,
   "metadata": {},
   "outputs": [],
   "source": [
    "data[['T', 'VV']].corr()"
   ]
  },
  {
   "cell_type": "code",
   "execution_count": null,
   "metadata": {},
   "outputs": [],
   "source": [
    "data.columns"
   ]
  },
  {
   "cell_type": "code",
   "execution_count": null,
   "metadata": {},
   "outputs": [],
   "source": [
    "data.describe"
   ]
  },
  {
   "cell_type": "code",
   "execution_count": 77,
   "metadata": {},
   "outputs": [
    {
     "ename": "AttributeError",
     "evalue": "'builtin_function_or_method' object has no attribute 'now'",
     "output_type": "error",
     "traceback": [
      "\u001b[1;31m---------------------------------------------------------------------------\u001b[0m",
      "\u001b[1;31mAttributeError\u001b[0m                            Traceback (most recent call last)",
      "\u001b[1;32m<ipython-input-77-9bf2f19ff969>\u001b[0m in \u001b[0;36m<module>\u001b[1;34m\u001b[0m\n\u001b[0;32m      1\u001b[0m \u001b[1;32mimport\u001b[0m \u001b[0mtime\u001b[0m\u001b[1;33m\u001b[0m\u001b[1;33m\u001b[0m\u001b[0m\n\u001b[1;32m----> 2\u001b[1;33m \u001b[0mtime\u001b[0m\u001b[1;33m.\u001b[0m\u001b[0mtime\u001b[0m\u001b[1;33m.\u001b[0m\u001b[0mnow\u001b[0m\u001b[1;33m(\u001b[0m\u001b[1;33m)\u001b[0m\u001b[1;33m\u001b[0m\u001b[1;33m\u001b[0m\u001b[0m\n\u001b[0m",
      "\u001b[1;31mAttributeError\u001b[0m: 'builtin_function_or_method' object has no attribute 'now'"
     ]
    }
   ],
   "source": [
    "import time\n",
    "time.time.now()"
   ]
  },
  {
   "cell_type": "code",
   "execution_count": 103,
   "metadata": {},
   "outputs": [],
   "source": [
    "from sklearn.tree import DecisionTreeRegressor"
   ]
  },
  {
   "cell_type": "code",
   "execution_count": 158,
   "metadata": {},
   "outputs": [],
   "source": [
    "data = msk_day.copy()\n",
    "data['month'] = data.index.month\n",
    "data['day'] = data.index.day\n",
    "data_train = data[data.index.year < 2019]\n",
    "data_test = data[data.index.year >= 2019].copy()"
   ]
  },
  {
   "cell_type": "code",
   "execution_count": 159,
   "metadata": {},
   "outputs": [
    {
     "data": {
      "text/plain": [
       "DecisionTreeRegressor(criterion='mse', max_depth=None, max_features=None,\n",
       "                      max_leaf_nodes=7, min_impurity_decrease=0.0,\n",
       "                      min_impurity_split=None, min_samples_leaf=1,\n",
       "                      min_samples_split=2, min_weight_fraction_leaf=0.0,\n",
       "                      presort=False, random_state=None, splitter='best')"
      ]
     },
     "execution_count": 159,
     "metadata": {},
     "output_type": "execute_result"
    }
   ],
   "source": [
    "model = DecisionTreeRegressor(max_leaf_nodes=7)\n",
    "model.fit(data_train[['month', 'day']], data_train['T'])"
   ]
  },
  {
   "cell_type": "code",
   "execution_count": 160,
   "metadata": {},
   "outputs": [],
   "source": [
    "data_test['pred'] = model.predict(data_test[['month', 'day']])"
   ]
  },
  {
   "cell_type": "code",
   "execution_count": 161,
   "metadata": {},
   "outputs": [
    {
     "data": {
      "text/plain": [
       "<matplotlib.legend.Legend at 0x23995d4aa88>"
      ]
     },
     "execution_count": 161,
     "metadata": {},
     "output_type": "execute_result"
    },
    {
     "data": {
      "image/png": "[encoded data removed]",
      "text/plain": [
       "<Figure size 432x288 with 1 Axes>"
      ]
     },
     "metadata": {
      "needs_background": "light"
     },
     "output_type": "display_data"
    }
   ],
   "source": [
    "data_test['pred'].plot()\n",
    "data_test['T'].plot()\n",
    "plt.legend()"
   ]
  },
  {
   "cell_type": "code",
   "execution_count": 162,
   "metadata": {},
   "outputs": [],
   "source": [
    "import statsmodels.api as sm"
   ]
  },
  {
   "cell_type": "code",
   "execution_count": 163,
   "metadata": {},
   "outputs": [
    {
     "data": {
      "text/plain": [
       "1461"
      ]
     },
     "execution_count": 163,
     "metadata": {},
     "output_type": "execute_result"
    }
   ],
   "source": [
    "len(data_train)"
   ]
  },
  {
   "cell_type": "code",
   "execution_count": null,
   "metadata": {},
   "outputs": [],
   "source": [
    "mod = sm.tsa.statespace.SARIMAX(data_train['T'],\n",
    "                                order=(0, 0, 1),\n",
    "                                seasonal_order=(1, 1, 1, 12),\n",
    "                                enforce_stationarity=False,\n",
    "                                enforce_invertibility=False)\n",
    "results = mod.fit()\n",
    "pred = results.get_prediction(start=1462, end=1600) #, dynamic=False)\n",
    "pred_ci = pred.conf_int()\n",
    "ax = msk_day['T'].plot(label='observed')\n",
    "pred.predicted_mean.plot()  #ax=ax, label='One-step ahead Forecast', alpha=.7, figsize=(14, 4))\n",
    "ax.fill_between(pred_ci.index,\n",
    "                pred_ci.iloc[:, 0],\n",
    "                pred_ci.iloc[:, 1], color='k', alpha=.2)\n",
    "ax.set_xlabel('Date')\n",
    "ax.set_ylabel('Retail_sold')\n",
    "plt.legend()\n",
    "plt.show()"
   ]
  },
  {
   "cell_type": "code",
   "execution_count": null,
   "metadata": {},
   "outputs": [],
   "source": []
  }
 ],
 "metadata": {
  "kernelspec": {
   "display_name": "Python 3",
   "language": "python",
   "name": "python3"
  },
  "language_info": {
   "codemirror_mode": {
    "name": "ipython",
    "version": 3
   },
   "file_extension": ".py",
   "mimetype": "text/x-python",
   "name": "python",
   "nbconvert_exporter": "python",
   "pygments_lexer": "ipython3",
   "version": "3.7.4"
  }
 },
 "nbformat": 4,
 "nbformat_minor": 2
}
